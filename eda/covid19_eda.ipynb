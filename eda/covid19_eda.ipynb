{
  "nbformat": 4,
  "nbformat_minor": 0,
  "metadata": {
    "colab": {
      "name": "covid19_eda.ipynb",
      "provenance": [],
      "toc_visible": true,
      "authorship_tag": "ABX9TyOzZNYJcv2HDes+korBF/7u"
    },
    "kernelspec": {
      "name": "python3",
      "display_name": "Python 3"
    }
  },
  "cells": [
    {
      "cell_type": "code",
      "metadata": {
        "id": "JKswm-YIpnBU",
        "colab_type": "code",
        "colab": {}
      },
      "source": [
        "import requests\n",
        "import pandas as pd\n",
        "import numpy as np\n",
        "import matplotlib.pyplot as plt\n",
        "from sklearn.linear_model import LinearRegression\n",
        "from sklearn.model_selection import train_test_split\n",
        "\n",
        "from dateutil.relativedelta import relativedelta\n",
        "\n",
        "import tensorflow as tf\n",
        "from keras.models import Sequential\n",
        "from keras.layers import LSTM\n",
        "from keras.layers import Dense\n",
        "from keras.initializers import glorot_uniform\n",
        "\n",
        "plt.rcParams['figure.facecolor'] = 'w'\n"
      ],
      "execution_count": 0,
      "outputs": []
    },
    {
      "cell_type": "code",
      "metadata": {
        "id": "n-rCZdK99nH1",
        "colab_type": "code",
        "colab": {}
      },
      "source": [
        "import os\n",
        "os.environ['PYTHONHASHSEED']=str(42)\n",
        "\n",
        "import random\n",
        "random.seed(42)"
      ],
      "execution_count": 0,
      "outputs": []
    },
    {
      "cell_type": "code",
      "metadata": {
        "id": "osFSSEGN6-iU",
        "colab_type": "code",
        "colab": {}
      },
      "source": [
        "tf.random.set_seed(42)"
      ],
      "execution_count": 0,
      "outputs": []
    },
    {
      "cell_type": "code",
      "metadata": {
        "id": "AxNh_2AP5wTM",
        "colab_type": "code",
        "colab": {}
      },
      "source": [
        "np.random.seed(42)"
      ],
      "execution_count": 0,
      "outputs": []
    },
    {
      "cell_type": "code",
      "metadata": {
        "id": "cNDjbuHDx9hI",
        "colab_type": "code",
        "outputId": "79c0d89c-3010-474e-a67d-b279cdff59e4",
        "colab": {
          "base_uri": "https://localhost:8080/",
          "height": 122
        }
      },
      "source": [
        "from google.colab import drive\n",
        "\n",
        "drive.mount('/content/gdrive/', force_remount = False)"
      ],
      "execution_count": 0,
      "outputs": [
        {
          "output_type": "stream",
          "text": [
            "Go to this URL in a browser: https://accounts.google.com/o/oauth2/auth?client_id=947318989803-6bn6qk8qdgf4n4g3pfee6491hc0brc4i.apps.googleusercontent.com&redirect_uri=urn%3aietf%3awg%3aoauth%3a2.0%3aoob&response_type=code&scope=email%20https%3a%2f%2fwww.googleapis.com%2fauth%2fdocs.test%20https%3a%2f%2fwww.googleapis.com%2fauth%2fdrive%20https%3a%2f%2fwww.googleapis.com%2fauth%2fdrive.photos.readonly%20https%3a%2f%2fwww.googleapis.com%2fauth%2fpeopleapi.readonly\n",
            "\n",
            "Enter your authorization code:\n",
            "··········\n",
            "Mounted at /content/gdrive/\n"
          ],
          "name": "stdout"
        }
      ]
    },
    {
      "cell_type": "code",
      "metadata": {
        "id": "qBMn5s0hyG7R",
        "colab_type": "code",
        "colab": {}
      },
      "source": [
        "save_path = ''"
      ],
      "execution_count": 0,
      "outputs": []
    },
    {
      "cell_type": "markdown",
      "metadata": {
        "id": "mPjWbRd0qhwx",
        "colab_type": "text"
      },
      "source": [
        "# Load Data"
      ]
    },
    {
      "cell_type": "code",
      "metadata": {
        "id": "PyfOOZQEqZC4",
        "colab_type": "code",
        "colab": {}
      },
      "source": [
        "url = 'https://pomber.github.io/covid19/timeseries.json'"
      ],
      "execution_count": 0,
      "outputs": []
    },
    {
      "cell_type": "code",
      "metadata": {
        "id": "2U9zUeraqdBq",
        "colab_type": "code",
        "colab": {}
      },
      "source": [
        "response = requests.get(url)"
      ],
      "execution_count": 0,
      "outputs": []
    },
    {
      "cell_type": "code",
      "metadata": {
        "id": "qZVgKZ4PqeSx",
        "colab_type": "code",
        "colab": {}
      },
      "source": [
        "json = response.json()"
      ],
      "execution_count": 0,
      "outputs": []
    },
    {
      "cell_type": "markdown",
      "metadata": {
        "id": "2ZS4sRC3qkM1",
        "colab_type": "text"
      },
      "source": [
        "# EDA"
      ]
    },
    {
      "cell_type": "code",
      "metadata": {
        "id": "4HbN7y-zqfuQ",
        "colab_type": "code",
        "outputId": "42c0d57f-ba68-4baa-82b1-80ef166a039d",
        "colab": {
          "base_uri": "https://localhost:8080/",
          "height": 712
        }
      },
      "source": [
        "pd.DataFrame(json).head()"
      ],
      "execution_count": 0,
      "outputs": [
        {
          "output_type": "execute_result",
          "data": {
            "text/html": [
              "<div>\n",
              "<style scoped>\n",
              "    .dataframe tbody tr th:only-of-type {\n",
              "        vertical-align: middle;\n",
              "    }\n",
              "\n",
              "    .dataframe tbody tr th {\n",
              "        vertical-align: top;\n",
              "    }\n",
              "\n",
              "    .dataframe thead th {\n",
              "        text-align: right;\n",
              "    }\n",
              "</style>\n",
              "<table border=\"1\" class=\"dataframe\">\n",
              "  <thead>\n",
              "    <tr style=\"text-align: right;\">\n",
              "      <th></th>\n",
              "      <th>Afghanistan</th>\n",
              "      <th>Albania</th>\n",
              "      <th>Algeria</th>\n",
              "      <th>Andorra</th>\n",
              "      <th>Angola</th>\n",
              "      <th>Antigua and Barbuda</th>\n",
              "      <th>Argentina</th>\n",
              "      <th>Armenia</th>\n",
              "      <th>Australia</th>\n",
              "      <th>Austria</th>\n",
              "      <th>Azerbaijan</th>\n",
              "      <th>Bahamas</th>\n",
              "      <th>Bahrain</th>\n",
              "      <th>Bangladesh</th>\n",
              "      <th>Barbados</th>\n",
              "      <th>Belarus</th>\n",
              "      <th>Belgium</th>\n",
              "      <th>Benin</th>\n",
              "      <th>Bhutan</th>\n",
              "      <th>Bolivia</th>\n",
              "      <th>Bosnia and Herzegovina</th>\n",
              "      <th>Brazil</th>\n",
              "      <th>Brunei</th>\n",
              "      <th>Bulgaria</th>\n",
              "      <th>Burkina Faso</th>\n",
              "      <th>Cabo Verde</th>\n",
              "      <th>Cambodia</th>\n",
              "      <th>Cameroon</th>\n",
              "      <th>Canada</th>\n",
              "      <th>Central African Republic</th>\n",
              "      <th>Chad</th>\n",
              "      <th>Chile</th>\n",
              "      <th>China</th>\n",
              "      <th>Colombia</th>\n",
              "      <th>Congo (Brazzaville)</th>\n",
              "      <th>Congo (Kinshasa)</th>\n",
              "      <th>Costa Rica</th>\n",
              "      <th>Cote d'Ivoire</th>\n",
              "      <th>Croatia</th>\n",
              "      <th>Diamond Princess</th>\n",
              "      <th>...</th>\n",
              "      <th>Tanzania</th>\n",
              "      <th>Thailand</th>\n",
              "      <th>Togo</th>\n",
              "      <th>Trinidad and Tobago</th>\n",
              "      <th>Tunisia</th>\n",
              "      <th>Turkey</th>\n",
              "      <th>Uganda</th>\n",
              "      <th>Ukraine</th>\n",
              "      <th>United Arab Emirates</th>\n",
              "      <th>United Kingdom</th>\n",
              "      <th>Uruguay</th>\n",
              "      <th>US</th>\n",
              "      <th>Uzbekistan</th>\n",
              "      <th>Venezuela</th>\n",
              "      <th>Vietnam</th>\n",
              "      <th>Zambia</th>\n",
              "      <th>Zimbabwe</th>\n",
              "      <th>Dominica</th>\n",
              "      <th>Grenada</th>\n",
              "      <th>Mozambique</th>\n",
              "      <th>Syria</th>\n",
              "      <th>Timor-Leste</th>\n",
              "      <th>Belize</th>\n",
              "      <th>Laos</th>\n",
              "      <th>Libya</th>\n",
              "      <th>West Bank and Gaza</th>\n",
              "      <th>Guinea-Bissau</th>\n",
              "      <th>Mali</th>\n",
              "      <th>Saint Kitts and Nevis</th>\n",
              "      <th>Kosovo</th>\n",
              "      <th>Burma</th>\n",
              "      <th>MS Zaandam</th>\n",
              "      <th>Botswana</th>\n",
              "      <th>Burundi</th>\n",
              "      <th>Sierra Leone</th>\n",
              "      <th>Malawi</th>\n",
              "      <th>South Sudan</th>\n",
              "      <th>Western Sahara</th>\n",
              "      <th>Sao Tome and Principe</th>\n",
              "      <th>Yemen</th>\n",
              "    </tr>\n",
              "  </thead>\n",
              "  <tbody>\n",
              "    <tr>\n",
              "      <th>0</th>\n",
              "      <td>{'date': '2020-1-22', 'confirmed': 0, 'deaths'...</td>\n",
              "      <td>{'date': '2020-1-22', 'confirmed': 0, 'deaths'...</td>\n",
              "      <td>{'date': '2020-1-22', 'confirmed': 0, 'deaths'...</td>\n",
              "      <td>{'date': '2020-1-22', 'confirmed': 0, 'deaths'...</td>\n",
              "      <td>{'date': '2020-1-22', 'confirmed': 0, 'deaths'...</td>\n",
              "      <td>{'date': '2020-1-22', 'confirmed': 0, 'deaths'...</td>\n",
              "      <td>{'date': '2020-1-22', 'confirmed': 0, 'deaths'...</td>\n",
              "      <td>{'date': '2020-1-22', 'confirmed': 0, 'deaths'...</td>\n",
              "      <td>{'date': '2020-1-22', 'confirmed': 0, 'deaths'...</td>\n",
              "      <td>{'date': '2020-1-22', 'confirmed': 0, 'deaths'...</td>\n",
              "      <td>{'date': '2020-1-22', 'confirmed': 0, 'deaths'...</td>\n",
              "      <td>{'date': '2020-1-22', 'confirmed': 0, 'deaths'...</td>\n",
              "      <td>{'date': '2020-1-22', 'confirmed': 0, 'deaths'...</td>\n",
              "      <td>{'date': '2020-1-22', 'confirmed': 0, 'deaths'...</td>\n",
              "      <td>{'date': '2020-1-22', 'confirmed': 0, 'deaths'...</td>\n",
              "      <td>{'date': '2020-1-22', 'confirmed': 0, 'deaths'...</td>\n",
              "      <td>{'date': '2020-1-22', 'confirmed': 0, 'deaths'...</td>\n",
              "      <td>{'date': '2020-1-22', 'confirmed': 0, 'deaths'...</td>\n",
              "      <td>{'date': '2020-1-22', 'confirmed': 0, 'deaths'...</td>\n",
              "      <td>{'date': '2020-1-22', 'confirmed': 0, 'deaths'...</td>\n",
              "      <td>{'date': '2020-1-22', 'confirmed': 0, 'deaths'...</td>\n",
              "      <td>{'date': '2020-1-22', 'confirmed': 0, 'deaths'...</td>\n",
              "      <td>{'date': '2020-1-22', 'confirmed': 0, 'deaths'...</td>\n",
              "      <td>{'date': '2020-1-22', 'confirmed': 0, 'deaths'...</td>\n",
              "      <td>{'date': '2020-1-22', 'confirmed': 0, 'deaths'...</td>\n",
              "      <td>{'date': '2020-1-22', 'confirmed': 0, 'deaths'...</td>\n",
              "      <td>{'date': '2020-1-22', 'confirmed': 0, 'deaths'...</td>\n",
              "      <td>{'date': '2020-1-22', 'confirmed': 0, 'deaths'...</td>\n",
              "      <td>{'date': '2020-1-22', 'confirmed': 0, 'deaths'...</td>\n",
              "      <td>{'date': '2020-1-22', 'confirmed': 0, 'deaths'...</td>\n",
              "      <td>{'date': '2020-1-22', 'confirmed': 0, 'deaths'...</td>\n",
              "      <td>{'date': '2020-1-22', 'confirmed': 0, 'deaths'...</td>\n",
              "      <td>{'date': '2020-1-22', 'confirmed': 548, 'death...</td>\n",
              "      <td>{'date': '2020-1-22', 'confirmed': 0, 'deaths'...</td>\n",
              "      <td>{'date': '2020-1-22', 'confirmed': 0, 'deaths'...</td>\n",
              "      <td>{'date': '2020-1-22', 'confirmed': 0, 'deaths'...</td>\n",
              "      <td>{'date': '2020-1-22', 'confirmed': 0, 'deaths'...</td>\n",
              "      <td>{'date': '2020-1-22', 'confirmed': 0, 'deaths'...</td>\n",
              "      <td>{'date': '2020-1-22', 'confirmed': 0, 'deaths'...</td>\n",
              "      <td>{'date': '2020-1-22', 'confirmed': 0, 'deaths'...</td>\n",
              "      <td>...</td>\n",
              "      <td>{'date': '2020-1-22', 'confirmed': 0, 'deaths'...</td>\n",
              "      <td>{'date': '2020-1-22', 'confirmed': 2, 'deaths'...</td>\n",
              "      <td>{'date': '2020-1-22', 'confirmed': 0, 'deaths'...</td>\n",
              "      <td>{'date': '2020-1-22', 'confirmed': 0, 'deaths'...</td>\n",
              "      <td>{'date': '2020-1-22', 'confirmed': 0, 'deaths'...</td>\n",
              "      <td>{'date': '2020-1-22', 'confirmed': 0, 'deaths'...</td>\n",
              "      <td>{'date': '2020-1-22', 'confirmed': 0, 'deaths'...</td>\n",
              "      <td>{'date': '2020-1-22', 'confirmed': 0, 'deaths'...</td>\n",
              "      <td>{'date': '2020-1-22', 'confirmed': 0, 'deaths'...</td>\n",
              "      <td>{'date': '2020-1-22', 'confirmed': 0, 'deaths'...</td>\n",
              "      <td>{'date': '2020-1-22', 'confirmed': 0, 'deaths'...</td>\n",
              "      <td>{'date': '2020-1-22', 'confirmed': 1, 'deaths'...</td>\n",
              "      <td>{'date': '2020-1-22', 'confirmed': 0, 'deaths'...</td>\n",
              "      <td>{'date': '2020-1-22', 'confirmed': 0, 'deaths'...</td>\n",
              "      <td>{'date': '2020-1-22', 'confirmed': 0, 'deaths'...</td>\n",
              "      <td>{'date': '2020-1-22', 'confirmed': 0, 'deaths'...</td>\n",
              "      <td>{'date': '2020-1-22', 'confirmed': 0, 'deaths'...</td>\n",
              "      <td>{'date': '2020-1-22', 'confirmed': 0, 'deaths'...</td>\n",
              "      <td>{'date': '2020-1-22', 'confirmed': 0, 'deaths'...</td>\n",
              "      <td>{'date': '2020-1-22', 'confirmed': 0, 'deaths'...</td>\n",
              "      <td>{'date': '2020-1-22', 'confirmed': 0, 'deaths'...</td>\n",
              "      <td>{'date': '2020-1-22', 'confirmed': 0, 'deaths'...</td>\n",
              "      <td>{'date': '2020-1-22', 'confirmed': 0, 'deaths'...</td>\n",
              "      <td>{'date': '2020-1-22', 'confirmed': 0, 'deaths'...</td>\n",
              "      <td>{'date': '2020-1-22', 'confirmed': 0, 'deaths'...</td>\n",
              "      <td>{'date': '2020-1-22', 'confirmed': 0, 'deaths'...</td>\n",
              "      <td>{'date': '2020-1-22', 'confirmed': 0, 'deaths'...</td>\n",
              "      <td>{'date': '2020-1-22', 'confirmed': 0, 'deaths'...</td>\n",
              "      <td>{'date': '2020-1-22', 'confirmed': 0, 'deaths'...</td>\n",
              "      <td>{'date': '2020-1-22', 'confirmed': 0, 'deaths'...</td>\n",
              "      <td>{'date': '2020-1-22', 'confirmed': 0, 'deaths'...</td>\n",
              "      <td>{'date': '2020-1-22', 'confirmed': 0, 'deaths'...</td>\n",
              "      <td>{'date': '2020-1-22', 'confirmed': 0, 'deaths'...</td>\n",
              "      <td>{'date': '2020-1-22', 'confirmed': 0, 'deaths'...</td>\n",
              "      <td>{'date': '2020-1-22', 'confirmed': 0, 'deaths'...</td>\n",
              "      <td>{'date': '2020-1-22', 'confirmed': 0, 'deaths'...</td>\n",
              "      <td>{'date': '2020-1-22', 'confirmed': 0, 'deaths'...</td>\n",
              "      <td>{'date': '2020-1-22', 'confirmed': 0, 'deaths'...</td>\n",
              "      <td>{'date': '2020-1-22', 'confirmed': 0, 'deaths'...</td>\n",
              "      <td>{'date': '2020-1-22', 'confirmed': 0, 'deaths'...</td>\n",
              "    </tr>\n",
              "    <tr>\n",
              "      <th>1</th>\n",
              "      <td>{'date': '2020-1-23', 'confirmed': 0, 'deaths'...</td>\n",
              "      <td>{'date': '2020-1-23', 'confirmed': 0, 'deaths'...</td>\n",
              "      <td>{'date': '2020-1-23', 'confirmed': 0, 'deaths'...</td>\n",
              "      <td>{'date': '2020-1-23', 'confirmed': 0, 'deaths'...</td>\n",
              "      <td>{'date': '2020-1-23', 'confirmed': 0, 'deaths'...</td>\n",
              "      <td>{'date': '2020-1-23', 'confirmed': 0, 'deaths'...</td>\n",
              "      <td>{'date': '2020-1-23', 'confirmed': 0, 'deaths'...</td>\n",
              "      <td>{'date': '2020-1-23', 'confirmed': 0, 'deaths'...</td>\n",
              "      <td>{'date': '2020-1-23', 'confirmed': 0, 'deaths'...</td>\n",
              "      <td>{'date': '2020-1-23', 'confirmed': 0, 'deaths'...</td>\n",
              "      <td>{'date': '2020-1-23', 'confirmed': 0, 'deaths'...</td>\n",
              "      <td>{'date': '2020-1-23', 'confirmed': 0, 'deaths'...</td>\n",
              "      <td>{'date': '2020-1-23', 'confirmed': 0, 'deaths'...</td>\n",
              "      <td>{'date': '2020-1-23', 'confirmed': 0, 'deaths'...</td>\n",
              "      <td>{'date': '2020-1-23', 'confirmed': 0, 'deaths'...</td>\n",
              "      <td>{'date': '2020-1-23', 'confirmed': 0, 'deaths'...</td>\n",
              "      <td>{'date': '2020-1-23', 'confirmed': 0, 'deaths'...</td>\n",
              "      <td>{'date': '2020-1-23', 'confirmed': 0, 'deaths'...</td>\n",
              "      <td>{'date': '2020-1-23', 'confirmed': 0, 'deaths'...</td>\n",
              "      <td>{'date': '2020-1-23', 'confirmed': 0, 'deaths'...</td>\n",
              "      <td>{'date': '2020-1-23', 'confirmed': 0, 'deaths'...</td>\n",
              "      <td>{'date': '2020-1-23', 'confirmed': 0, 'deaths'...</td>\n",
              "      <td>{'date': '2020-1-23', 'confirmed': 0, 'deaths'...</td>\n",
              "      <td>{'date': '2020-1-23', 'confirmed': 0, 'deaths'...</td>\n",
              "      <td>{'date': '2020-1-23', 'confirmed': 0, 'deaths'...</td>\n",
              "      <td>{'date': '2020-1-23', 'confirmed': 0, 'deaths'...</td>\n",
              "      <td>{'date': '2020-1-23', 'confirmed': 0, 'deaths'...</td>\n",
              "      <td>{'date': '2020-1-23', 'confirmed': 0, 'deaths'...</td>\n",
              "      <td>{'date': '2020-1-23', 'confirmed': 0, 'deaths'...</td>\n",
              "      <td>{'date': '2020-1-23', 'confirmed': 0, 'deaths'...</td>\n",
              "      <td>{'date': '2020-1-23', 'confirmed': 0, 'deaths'...</td>\n",
              "      <td>{'date': '2020-1-23', 'confirmed': 0, 'deaths'...</td>\n",
              "      <td>{'date': '2020-1-23', 'confirmed': 643, 'death...</td>\n",
              "      <td>{'date': '2020-1-23', 'confirmed': 0, 'deaths'...</td>\n",
              "      <td>{'date': '2020-1-23', 'confirmed': 0, 'deaths'...</td>\n",
              "      <td>{'date': '2020-1-23', 'confirmed': 0, 'deaths'...</td>\n",
              "      <td>{'date': '2020-1-23', 'confirmed': 0, 'deaths'...</td>\n",
              "      <td>{'date': '2020-1-23', 'confirmed': 0, 'deaths'...</td>\n",
              "      <td>{'date': '2020-1-23', 'confirmed': 0, 'deaths'...</td>\n",
              "      <td>{'date': '2020-1-23', 'confirmed': 0, 'deaths'...</td>\n",
              "      <td>...</td>\n",
              "      <td>{'date': '2020-1-23', 'confirmed': 0, 'deaths'...</td>\n",
              "      <td>{'date': '2020-1-23', 'confirmed': 3, 'deaths'...</td>\n",
              "      <td>{'date': '2020-1-23', 'confirmed': 0, 'deaths'...</td>\n",
              "      <td>{'date': '2020-1-23', 'confirmed': 0, 'deaths'...</td>\n",
              "      <td>{'date': '2020-1-23', 'confirmed': 0, 'deaths'...</td>\n",
              "      <td>{'date': '2020-1-23', 'confirmed': 0, 'deaths'...</td>\n",
              "      <td>{'date': '2020-1-23', 'confirmed': 0, 'deaths'...</td>\n",
              "      <td>{'date': '2020-1-23', 'confirmed': 0, 'deaths'...</td>\n",
              "      <td>{'date': '2020-1-23', 'confirmed': 0, 'deaths'...</td>\n",
              "      <td>{'date': '2020-1-23', 'confirmed': 0, 'deaths'...</td>\n",
              "      <td>{'date': '2020-1-23', 'confirmed': 0, 'deaths'...</td>\n",
              "      <td>{'date': '2020-1-23', 'confirmed': 1, 'deaths'...</td>\n",
              "      <td>{'date': '2020-1-23', 'confirmed': 0, 'deaths'...</td>\n",
              "      <td>{'date': '2020-1-23', 'confirmed': 0, 'deaths'...</td>\n",
              "      <td>{'date': '2020-1-23', 'confirmed': 2, 'deaths'...</td>\n",
              "      <td>{'date': '2020-1-23', 'confirmed': 0, 'deaths'...</td>\n",
              "      <td>{'date': '2020-1-23', 'confirmed': 0, 'deaths'...</td>\n",
              "      <td>{'date': '2020-1-23', 'confirmed': 0, 'deaths'...</td>\n",
              "      <td>{'date': '2020-1-23', 'confirmed': 0, 'deaths'...</td>\n",
              "      <td>{'date': '2020-1-23', 'confirmed': 0, 'deaths'...</td>\n",
              "      <td>{'date': '2020-1-23', 'confirmed': 0, 'deaths'...</td>\n",
              "      <td>{'date': '2020-1-23', 'confirmed': 0, 'deaths'...</td>\n",
              "      <td>{'date': '2020-1-23', 'confirmed': 0, 'deaths'...</td>\n",
              "      <td>{'date': '2020-1-23', 'confirmed': 0, 'deaths'...</td>\n",
              "      <td>{'date': '2020-1-23', 'confirmed': 0, 'deaths'...</td>\n",
              "      <td>{'date': '2020-1-23', 'confirmed': 0, 'deaths'...</td>\n",
              "      <td>{'date': '2020-1-23', 'confirmed': 0, 'deaths'...</td>\n",
              "      <td>{'date': '2020-1-23', 'confirmed': 0, 'deaths'...</td>\n",
              "      <td>{'date': '2020-1-23', 'confirmed': 0, 'deaths'...</td>\n",
              "      <td>{'date': '2020-1-23', 'confirmed': 0, 'deaths'...</td>\n",
              "      <td>{'date': '2020-1-23', 'confirmed': 0, 'deaths'...</td>\n",
              "      <td>{'date': '2020-1-23', 'confirmed': 0, 'deaths'...</td>\n",
              "      <td>{'date': '2020-1-23', 'confirmed': 0, 'deaths'...</td>\n",
              "      <td>{'date': '2020-1-23', 'confirmed': 0, 'deaths'...</td>\n",
              "      <td>{'date': '2020-1-23', 'confirmed': 0, 'deaths'...</td>\n",
              "      <td>{'date': '2020-1-23', 'confirmed': 0, 'deaths'...</td>\n",
              "      <td>{'date': '2020-1-23', 'confirmed': 0, 'deaths'...</td>\n",
              "      <td>{'date': '2020-1-23', 'confirmed': 0, 'deaths'...</td>\n",
              "      <td>{'date': '2020-1-23', 'confirmed': 0, 'deaths'...</td>\n",
              "      <td>{'date': '2020-1-23', 'confirmed': 0, 'deaths'...</td>\n",
              "    </tr>\n",
              "    <tr>\n",
              "      <th>2</th>\n",
              "      <td>{'date': '2020-1-24', 'confirmed': 0, 'deaths'...</td>\n",
              "      <td>{'date': '2020-1-24', 'confirmed': 0, 'deaths'...</td>\n",
              "      <td>{'date': '2020-1-24', 'confirmed': 0, 'deaths'...</td>\n",
              "      <td>{'date': '2020-1-24', 'confirmed': 0, 'deaths'...</td>\n",
              "      <td>{'date': '2020-1-24', 'confirmed': 0, 'deaths'...</td>\n",
              "      <td>{'date': '2020-1-24', 'confirmed': 0, 'deaths'...</td>\n",
              "      <td>{'date': '2020-1-24', 'confirmed': 0, 'deaths'...</td>\n",
              "      <td>{'date': '2020-1-24', 'confirmed': 0, 'deaths'...</td>\n",
              "      <td>{'date': '2020-1-24', 'confirmed': 0, 'deaths'...</td>\n",
              "      <td>{'date': '2020-1-24', 'confirmed': 0, 'deaths'...</td>\n",
              "      <td>{'date': '2020-1-24', 'confirmed': 0, 'deaths'...</td>\n",
              "      <td>{'date': '2020-1-24', 'confirmed': 0, 'deaths'...</td>\n",
              "      <td>{'date': '2020-1-24', 'confirmed': 0, 'deaths'...</td>\n",
              "      <td>{'date': '2020-1-24', 'confirmed': 0, 'deaths'...</td>\n",
              "      <td>{'date': '2020-1-24', 'confirmed': 0, 'deaths'...</td>\n",
              "      <td>{'date': '2020-1-24', 'confirmed': 0, 'deaths'...</td>\n",
              "      <td>{'date': '2020-1-24', 'confirmed': 0, 'deaths'...</td>\n",
              "      <td>{'date': '2020-1-24', 'confirmed': 0, 'deaths'...</td>\n",
              "      <td>{'date': '2020-1-24', 'confirmed': 0, 'deaths'...</td>\n",
              "      <td>{'date': '2020-1-24', 'confirmed': 0, 'deaths'...</td>\n",
              "      <td>{'date': '2020-1-24', 'confirmed': 0, 'deaths'...</td>\n",
              "      <td>{'date': '2020-1-24', 'confirmed': 0, 'deaths'...</td>\n",
              "      <td>{'date': '2020-1-24', 'confirmed': 0, 'deaths'...</td>\n",
              "      <td>{'date': '2020-1-24', 'confirmed': 0, 'deaths'...</td>\n",
              "      <td>{'date': '2020-1-24', 'confirmed': 0, 'deaths'...</td>\n",
              "      <td>{'date': '2020-1-24', 'confirmed': 0, 'deaths'...</td>\n",
              "      <td>{'date': '2020-1-24', 'confirmed': 0, 'deaths'...</td>\n",
              "      <td>{'date': '2020-1-24', 'confirmed': 0, 'deaths'...</td>\n",
              "      <td>{'date': '2020-1-24', 'confirmed': 0, 'deaths'...</td>\n",
              "      <td>{'date': '2020-1-24', 'confirmed': 0, 'deaths'...</td>\n",
              "      <td>{'date': '2020-1-24', 'confirmed': 0, 'deaths'...</td>\n",
              "      <td>{'date': '2020-1-24', 'confirmed': 0, 'deaths'...</td>\n",
              "      <td>{'date': '2020-1-24', 'confirmed': 920, 'death...</td>\n",
              "      <td>{'date': '2020-1-24', 'confirmed': 0, 'deaths'...</td>\n",
              "      <td>{'date': '2020-1-24', 'confirmed': 0, 'deaths'...</td>\n",
              "      <td>{'date': '2020-1-24', 'confirmed': 0, 'deaths'...</td>\n",
              "      <td>{'date': '2020-1-24', 'confirmed': 0, 'deaths'...</td>\n",
              "      <td>{'date': '2020-1-24', 'confirmed': 0, 'deaths'...</td>\n",
              "      <td>{'date': '2020-1-24', 'confirmed': 0, 'deaths'...</td>\n",
              "      <td>{'date': '2020-1-24', 'confirmed': 0, 'deaths'...</td>\n",
              "      <td>...</td>\n",
              "      <td>{'date': '2020-1-24', 'confirmed': 0, 'deaths'...</td>\n",
              "      <td>{'date': '2020-1-24', 'confirmed': 5, 'deaths'...</td>\n",
              "      <td>{'date': '2020-1-24', 'confirmed': 0, 'deaths'...</td>\n",
              "      <td>{'date': '2020-1-24', 'confirmed': 0, 'deaths'...</td>\n",
              "      <td>{'date': '2020-1-24', 'confirmed': 0, 'deaths'...</td>\n",
              "      <td>{'date': '2020-1-24', 'confirmed': 0, 'deaths'...</td>\n",
              "      <td>{'date': '2020-1-24', 'confirmed': 0, 'deaths'...</td>\n",
              "      <td>{'date': '2020-1-24', 'confirmed': 0, 'deaths'...</td>\n",
              "      <td>{'date': '2020-1-24', 'confirmed': 0, 'deaths'...</td>\n",
              "      <td>{'date': '2020-1-24', 'confirmed': 0, 'deaths'...</td>\n",
              "      <td>{'date': '2020-1-24', 'confirmed': 0, 'deaths'...</td>\n",
              "      <td>{'date': '2020-1-24', 'confirmed': 2, 'deaths'...</td>\n",
              "      <td>{'date': '2020-1-24', 'confirmed': 0, 'deaths'...</td>\n",
              "      <td>{'date': '2020-1-24', 'confirmed': 0, 'deaths'...</td>\n",
              "      <td>{'date': '2020-1-24', 'confirmed': 2, 'deaths'...</td>\n",
              "      <td>{'date': '2020-1-24', 'confirmed': 0, 'deaths'...</td>\n",
              "      <td>{'date': '2020-1-24', 'confirmed': 0, 'deaths'...</td>\n",
              "      <td>{'date': '2020-1-24', 'confirmed': 0, 'deaths'...</td>\n",
              "      <td>{'date': '2020-1-24', 'confirmed': 0, 'deaths'...</td>\n",
              "      <td>{'date': '2020-1-24', 'confirmed': 0, 'deaths'...</td>\n",
              "      <td>{'date': '2020-1-24', 'confirmed': 0, 'deaths'...</td>\n",
              "      <td>{'date': '2020-1-24', 'confirmed': 0, 'deaths'...</td>\n",
              "      <td>{'date': '2020-1-24', 'confirmed': 0, 'deaths'...</td>\n",
              "      <td>{'date': '2020-1-24', 'confirmed': 0, 'deaths'...</td>\n",
              "      <td>{'date': '2020-1-24', 'confirmed': 0, 'deaths'...</td>\n",
              "      <td>{'date': '2020-1-24', 'confirmed': 0, 'deaths'...</td>\n",
              "      <td>{'date': '2020-1-24', 'confirmed': 0, 'deaths'...</td>\n",
              "      <td>{'date': '2020-1-24', 'confirmed': 0, 'deaths'...</td>\n",
              "      <td>{'date': '2020-1-24', 'confirmed': 0, 'deaths'...</td>\n",
              "      <td>{'date': '2020-1-24', 'confirmed': 0, 'deaths'...</td>\n",
              "      <td>{'date': '2020-1-24', 'confirmed': 0, 'deaths'...</td>\n",
              "      <td>{'date': '2020-1-24', 'confirmed': 0, 'deaths'...</td>\n",
              "      <td>{'date': '2020-1-24', 'confirmed': 0, 'deaths'...</td>\n",
              "      <td>{'date': '2020-1-24', 'confirmed': 0, 'deaths'...</td>\n",
              "      <td>{'date': '2020-1-24', 'confirmed': 0, 'deaths'...</td>\n",
              "      <td>{'date': '2020-1-24', 'confirmed': 0, 'deaths'...</td>\n",
              "      <td>{'date': '2020-1-24', 'confirmed': 0, 'deaths'...</td>\n",
              "      <td>{'date': '2020-1-24', 'confirmed': 0, 'deaths'...</td>\n",
              "      <td>{'date': '2020-1-24', 'confirmed': 0, 'deaths'...</td>\n",
              "      <td>{'date': '2020-1-24', 'confirmed': 0, 'deaths'...</td>\n",
              "    </tr>\n",
              "    <tr>\n",
              "      <th>3</th>\n",
              "      <td>{'date': '2020-1-25', 'confirmed': 0, 'deaths'...</td>\n",
              "      <td>{'date': '2020-1-25', 'confirmed': 0, 'deaths'...</td>\n",
              "      <td>{'date': '2020-1-25', 'confirmed': 0, 'deaths'...</td>\n",
              "      <td>{'date': '2020-1-25', 'confirmed': 0, 'deaths'...</td>\n",
              "      <td>{'date': '2020-1-25', 'confirmed': 0, 'deaths'...</td>\n",
              "      <td>{'date': '2020-1-25', 'confirmed': 0, 'deaths'...</td>\n",
              "      <td>{'date': '2020-1-25', 'confirmed': 0, 'deaths'...</td>\n",
              "      <td>{'date': '2020-1-25', 'confirmed': 0, 'deaths'...</td>\n",
              "      <td>{'date': '2020-1-25', 'confirmed': 0, 'deaths'...</td>\n",
              "      <td>{'date': '2020-1-25', 'confirmed': 0, 'deaths'...</td>\n",
              "      <td>{'date': '2020-1-25', 'confirmed': 0, 'deaths'...</td>\n",
              "      <td>{'date': '2020-1-25', 'confirmed': 0, 'deaths'...</td>\n",
              "      <td>{'date': '2020-1-25', 'confirmed': 0, 'deaths'...</td>\n",
              "      <td>{'date': '2020-1-25', 'confirmed': 0, 'deaths'...</td>\n",
              "      <td>{'date': '2020-1-25', 'confirmed': 0, 'deaths'...</td>\n",
              "      <td>{'date': '2020-1-25', 'confirmed': 0, 'deaths'...</td>\n",
              "      <td>{'date': '2020-1-25', 'confirmed': 0, 'deaths'...</td>\n",
              "      <td>{'date': '2020-1-25', 'confirmed': 0, 'deaths'...</td>\n",
              "      <td>{'date': '2020-1-25', 'confirmed': 0, 'deaths'...</td>\n",
              "      <td>{'date': '2020-1-25', 'confirmed': 0, 'deaths'...</td>\n",
              "      <td>{'date': '2020-1-25', 'confirmed': 0, 'deaths'...</td>\n",
              "      <td>{'date': '2020-1-25', 'confirmed': 0, 'deaths'...</td>\n",
              "      <td>{'date': '2020-1-25', 'confirmed': 0, 'deaths'...</td>\n",
              "      <td>{'date': '2020-1-25', 'confirmed': 0, 'deaths'...</td>\n",
              "      <td>{'date': '2020-1-25', 'confirmed': 0, 'deaths'...</td>\n",
              "      <td>{'date': '2020-1-25', 'confirmed': 0, 'deaths'...</td>\n",
              "      <td>{'date': '2020-1-25', 'confirmed': 0, 'deaths'...</td>\n",
              "      <td>{'date': '2020-1-25', 'confirmed': 0, 'deaths'...</td>\n",
              "      <td>{'date': '2020-1-25', 'confirmed': 0, 'deaths'...</td>\n",
              "      <td>{'date': '2020-1-25', 'confirmed': 0, 'deaths'...</td>\n",
              "      <td>{'date': '2020-1-25', 'confirmed': 0, 'deaths'...</td>\n",
              "      <td>{'date': '2020-1-25', 'confirmed': 0, 'deaths'...</td>\n",
              "      <td>{'date': '2020-1-25', 'confirmed': 1406, 'deat...</td>\n",
              "      <td>{'date': '2020-1-25', 'confirmed': 0, 'deaths'...</td>\n",
              "      <td>{'date': '2020-1-25', 'confirmed': 0, 'deaths'...</td>\n",
              "      <td>{'date': '2020-1-25', 'confirmed': 0, 'deaths'...</td>\n",
              "      <td>{'date': '2020-1-25', 'confirmed': 0, 'deaths'...</td>\n",
              "      <td>{'date': '2020-1-25', 'confirmed': 0, 'deaths'...</td>\n",
              "      <td>{'date': '2020-1-25', 'confirmed': 0, 'deaths'...</td>\n",
              "      <td>{'date': '2020-1-25', 'confirmed': 0, 'deaths'...</td>\n",
              "      <td>...</td>\n",
              "      <td>{'date': '2020-1-25', 'confirmed': 0, 'deaths'...</td>\n",
              "      <td>{'date': '2020-1-25', 'confirmed': 7, 'deaths'...</td>\n",
              "      <td>{'date': '2020-1-25', 'confirmed': 0, 'deaths'...</td>\n",
              "      <td>{'date': '2020-1-25', 'confirmed': 0, 'deaths'...</td>\n",
              "      <td>{'date': '2020-1-25', 'confirmed': 0, 'deaths'...</td>\n",
              "      <td>{'date': '2020-1-25', 'confirmed': 0, 'deaths'...</td>\n",
              "      <td>{'date': '2020-1-25', 'confirmed': 0, 'deaths'...</td>\n",
              "      <td>{'date': '2020-1-25', 'confirmed': 0, 'deaths'...</td>\n",
              "      <td>{'date': '2020-1-25', 'confirmed': 0, 'deaths'...</td>\n",
              "      <td>{'date': '2020-1-25', 'confirmed': 0, 'deaths'...</td>\n",
              "      <td>{'date': '2020-1-25', 'confirmed': 0, 'deaths'...</td>\n",
              "      <td>{'date': '2020-1-25', 'confirmed': 2, 'deaths'...</td>\n",
              "      <td>{'date': '2020-1-25', 'confirmed': 0, 'deaths'...</td>\n",
              "      <td>{'date': '2020-1-25', 'confirmed': 0, 'deaths'...</td>\n",
              "      <td>{'date': '2020-1-25', 'confirmed': 2, 'deaths'...</td>\n",
              "      <td>{'date': '2020-1-25', 'confirmed': 0, 'deaths'...</td>\n",
              "      <td>{'date': '2020-1-25', 'confirmed': 0, 'deaths'...</td>\n",
              "      <td>{'date': '2020-1-25', 'confirmed': 0, 'deaths'...</td>\n",
              "      <td>{'date': '2020-1-25', 'confirmed': 0, 'deaths'...</td>\n",
              "      <td>{'date': '2020-1-25', 'confirmed': 0, 'deaths'...</td>\n",
              "      <td>{'date': '2020-1-25', 'confirmed': 0, 'deaths'...</td>\n",
              "      <td>{'date': '2020-1-25', 'confirmed': 0, 'deaths'...</td>\n",
              "      <td>{'date': '2020-1-25', 'confirmed': 0, 'deaths'...</td>\n",
              "      <td>{'date': '2020-1-25', 'confirmed': 0, 'deaths'...</td>\n",
              "      <td>{'date': '2020-1-25', 'confirmed': 0, 'deaths'...</td>\n",
              "      <td>{'date': '2020-1-25', 'confirmed': 0, 'deaths'...</td>\n",
              "      <td>{'date': '2020-1-25', 'confirmed': 0, 'deaths'...</td>\n",
              "      <td>{'date': '2020-1-25', 'confirmed': 0, 'deaths'...</td>\n",
              "      <td>{'date': '2020-1-25', 'confirmed': 0, 'deaths'...</td>\n",
              "      <td>{'date': '2020-1-25', 'confirmed': 0, 'deaths'...</td>\n",
              "      <td>{'date': '2020-1-25', 'confirmed': 0, 'deaths'...</td>\n",
              "      <td>{'date': '2020-1-25', 'confirmed': 0, 'deaths'...</td>\n",
              "      <td>{'date': '2020-1-25', 'confirmed': 0, 'deaths'...</td>\n",
              "      <td>{'date': '2020-1-25', 'confirmed': 0, 'deaths'...</td>\n",
              "      <td>{'date': '2020-1-25', 'confirmed': 0, 'deaths'...</td>\n",
              "      <td>{'date': '2020-1-25', 'confirmed': 0, 'deaths'...</td>\n",
              "      <td>{'date': '2020-1-25', 'confirmed': 0, 'deaths'...</td>\n",
              "      <td>{'date': '2020-1-25', 'confirmed': 0, 'deaths'...</td>\n",
              "      <td>{'date': '2020-1-25', 'confirmed': 0, 'deaths'...</td>\n",
              "      <td>{'date': '2020-1-25', 'confirmed': 0, 'deaths'...</td>\n",
              "    </tr>\n",
              "    <tr>\n",
              "      <th>4</th>\n",
              "      <td>{'date': '2020-1-26', 'confirmed': 0, 'deaths'...</td>\n",
              "      <td>{'date': '2020-1-26', 'confirmed': 0, 'deaths'...</td>\n",
              "      <td>{'date': '2020-1-26', 'confirmed': 0, 'deaths'...</td>\n",
              "      <td>{'date': '2020-1-26', 'confirmed': 0, 'deaths'...</td>\n",
              "      <td>{'date': '2020-1-26', 'confirmed': 0, 'deaths'...</td>\n",
              "      <td>{'date': '2020-1-26', 'confirmed': 0, 'deaths'...</td>\n",
              "      <td>{'date': '2020-1-26', 'confirmed': 0, 'deaths'...</td>\n",
              "      <td>{'date': '2020-1-26', 'confirmed': 0, 'deaths'...</td>\n",
              "      <td>{'date': '2020-1-26', 'confirmed': 4, 'deaths'...</td>\n",
              "      <td>{'date': '2020-1-26', 'confirmed': 0, 'deaths'...</td>\n",
              "      <td>{'date': '2020-1-26', 'confirmed': 0, 'deaths'...</td>\n",
              "      <td>{'date': '2020-1-26', 'confirmed': 0, 'deaths'...</td>\n",
              "      <td>{'date': '2020-1-26', 'confirmed': 0, 'deaths'...</td>\n",
              "      <td>{'date': '2020-1-26', 'confirmed': 0, 'deaths'...</td>\n",
              "      <td>{'date': '2020-1-26', 'confirmed': 0, 'deaths'...</td>\n",
              "      <td>{'date': '2020-1-26', 'confirmed': 0, 'deaths'...</td>\n",
              "      <td>{'date': '2020-1-26', 'confirmed': 0, 'deaths'...</td>\n",
              "      <td>{'date': '2020-1-26', 'confirmed': 0, 'deaths'...</td>\n",
              "      <td>{'date': '2020-1-26', 'confirmed': 0, 'deaths'...</td>\n",
              "      <td>{'date': '2020-1-26', 'confirmed': 0, 'deaths'...</td>\n",
              "      <td>{'date': '2020-1-26', 'confirmed': 0, 'deaths'...</td>\n",
              "      <td>{'date': '2020-1-26', 'confirmed': 0, 'deaths'...</td>\n",
              "      <td>{'date': '2020-1-26', 'confirmed': 0, 'deaths'...</td>\n",
              "      <td>{'date': '2020-1-26', 'confirmed': 0, 'deaths'...</td>\n",
              "      <td>{'date': '2020-1-26', 'confirmed': 0, 'deaths'...</td>\n",
              "      <td>{'date': '2020-1-26', 'confirmed': 0, 'deaths'...</td>\n",
              "      <td>{'date': '2020-1-26', 'confirmed': 0, 'deaths'...</td>\n",
              "      <td>{'date': '2020-1-26', 'confirmed': 0, 'deaths'...</td>\n",
              "      <td>{'date': '2020-1-26', 'confirmed': 1, 'deaths'...</td>\n",
              "      <td>{'date': '2020-1-26', 'confirmed': 0, 'deaths'...</td>\n",
              "      <td>{'date': '2020-1-26', 'confirmed': 0, 'deaths'...</td>\n",
              "      <td>{'date': '2020-1-26', 'confirmed': 0, 'deaths'...</td>\n",
              "      <td>{'date': '2020-1-26', 'confirmed': 2075, 'deat...</td>\n",
              "      <td>{'date': '2020-1-26', 'confirmed': 0, 'deaths'...</td>\n",
              "      <td>{'date': '2020-1-26', 'confirmed': 0, 'deaths'...</td>\n",
              "      <td>{'date': '2020-1-26', 'confirmed': 0, 'deaths'...</td>\n",
              "      <td>{'date': '2020-1-26', 'confirmed': 0, 'deaths'...</td>\n",
              "      <td>{'date': '2020-1-26', 'confirmed': 0, 'deaths'...</td>\n",
              "      <td>{'date': '2020-1-26', 'confirmed': 0, 'deaths'...</td>\n",
              "      <td>{'date': '2020-1-26', 'confirmed': 0, 'deaths'...</td>\n",
              "      <td>...</td>\n",
              "      <td>{'date': '2020-1-26', 'confirmed': 0, 'deaths'...</td>\n",
              "      <td>{'date': '2020-1-26', 'confirmed': 8, 'deaths'...</td>\n",
              "      <td>{'date': '2020-1-26', 'confirmed': 0, 'deaths'...</td>\n",
              "      <td>{'date': '2020-1-26', 'confirmed': 0, 'deaths'...</td>\n",
              "      <td>{'date': '2020-1-26', 'confirmed': 0, 'deaths'...</td>\n",
              "      <td>{'date': '2020-1-26', 'confirmed': 0, 'deaths'...</td>\n",
              "      <td>{'date': '2020-1-26', 'confirmed': 0, 'deaths'...</td>\n",
              "      <td>{'date': '2020-1-26', 'confirmed': 0, 'deaths'...</td>\n",
              "      <td>{'date': '2020-1-26', 'confirmed': 0, 'deaths'...</td>\n",
              "      <td>{'date': '2020-1-26', 'confirmed': 0, 'deaths'...</td>\n",
              "      <td>{'date': '2020-1-26', 'confirmed': 0, 'deaths'...</td>\n",
              "      <td>{'date': '2020-1-26', 'confirmed': 5, 'deaths'...</td>\n",
              "      <td>{'date': '2020-1-26', 'confirmed': 0, 'deaths'...</td>\n",
              "      <td>{'date': '2020-1-26', 'confirmed': 0, 'deaths'...</td>\n",
              "      <td>{'date': '2020-1-26', 'confirmed': 2, 'deaths'...</td>\n",
              "      <td>{'date': '2020-1-26', 'confirmed': 0, 'deaths'...</td>\n",
              "      <td>{'date': '2020-1-26', 'confirmed': 0, 'deaths'...</td>\n",
              "      <td>{'date': '2020-1-26', 'confirmed': 0, 'deaths'...</td>\n",
              "      <td>{'date': '2020-1-26', 'confirmed': 0, 'deaths'...</td>\n",
              "      <td>{'date': '2020-1-26', 'confirmed': 0, 'deaths'...</td>\n",
              "      <td>{'date': '2020-1-26', 'confirmed': 0, 'deaths'...</td>\n",
              "      <td>{'date': '2020-1-26', 'confirmed': 0, 'deaths'...</td>\n",
              "      <td>{'date': '2020-1-26', 'confirmed': 0, 'deaths'...</td>\n",
              "      <td>{'date': '2020-1-26', 'confirmed': 0, 'deaths'...</td>\n",
              "      <td>{'date': '2020-1-26', 'confirmed': 0, 'deaths'...</td>\n",
              "      <td>{'date': '2020-1-26', 'confirmed': 0, 'deaths'...</td>\n",
              "      <td>{'date': '2020-1-26', 'confirmed': 0, 'deaths'...</td>\n",
              "      <td>{'date': '2020-1-26', 'confirmed': 0, 'deaths'...</td>\n",
              "      <td>{'date': '2020-1-26', 'confirmed': 0, 'deaths'...</td>\n",
              "      <td>{'date': '2020-1-26', 'confirmed': 0, 'deaths'...</td>\n",
              "      <td>{'date': '2020-1-26', 'confirmed': 0, 'deaths'...</td>\n",
              "      <td>{'date': '2020-1-26', 'confirmed': 0, 'deaths'...</td>\n",
              "      <td>{'date': '2020-1-26', 'confirmed': 0, 'deaths'...</td>\n",
              "      <td>{'date': '2020-1-26', 'confirmed': 0, 'deaths'...</td>\n",
              "      <td>{'date': '2020-1-26', 'confirmed': 0, 'deaths'...</td>\n",
              "      <td>{'date': '2020-1-26', 'confirmed': 0, 'deaths'...</td>\n",
              "      <td>{'date': '2020-1-26', 'confirmed': 0, 'deaths'...</td>\n",
              "      <td>{'date': '2020-1-26', 'confirmed': 0, 'deaths'...</td>\n",
              "      <td>{'date': '2020-1-26', 'confirmed': 0, 'deaths'...</td>\n",
              "      <td>{'date': '2020-1-26', 'confirmed': 0, 'deaths'...</td>\n",
              "    </tr>\n",
              "  </tbody>\n",
              "</table>\n",
              "<p>5 rows × 185 columns</p>\n",
              "</div>"
            ],
            "text/plain": [
              "                                         Afghanistan  ...                                              Yemen\n",
              "0  {'date': '2020-1-22', 'confirmed': 0, 'deaths'...  ...  {'date': '2020-1-22', 'confirmed': 0, 'deaths'...\n",
              "1  {'date': '2020-1-23', 'confirmed': 0, 'deaths'...  ...  {'date': '2020-1-23', 'confirmed': 0, 'deaths'...\n",
              "2  {'date': '2020-1-24', 'confirmed': 0, 'deaths'...  ...  {'date': '2020-1-24', 'confirmed': 0, 'deaths'...\n",
              "3  {'date': '2020-1-25', 'confirmed': 0, 'deaths'...  ...  {'date': '2020-1-25', 'confirmed': 0, 'deaths'...\n",
              "4  {'date': '2020-1-26', 'confirmed': 0, 'deaths'...  ...  {'date': '2020-1-26', 'confirmed': 0, 'deaths'...\n",
              "\n",
              "[5 rows x 185 columns]"
            ]
          },
          "metadata": {
            "tags": []
          },
          "execution_count": 10
        }
      ]
    },
    {
      "cell_type": "code",
      "metadata": {
        "id": "AuNTWAr4qlNE",
        "colab_type": "code",
        "colab": {}
      },
      "source": [
        "countries = json.keys()\n",
        "df_array = []"
      ],
      "execution_count": 0,
      "outputs": []
    },
    {
      "cell_type": "markdown",
      "metadata": {
        "id": "M6OiLTLlzBFB",
        "colab_type": "text"
      },
      "source": [
        "Convert dataframe to long-format"
      ]
    },
    {
      "cell_type": "code",
      "metadata": {
        "id": "RzktVkHfy5H1",
        "colab_type": "code",
        "colab": {}
      },
      "source": [
        "for country in countries:\n",
        "  stats = json[country]\n",
        "  for stat in stats:\n",
        "    # build row\n",
        "    date = stat['date']\n",
        "    confirmed = stat['confirmed']\n",
        "    deaths = stat['deaths']\n",
        "    recovered = stat['recovered']\n",
        "    df_array.append([country, date, confirmed, deaths, recovered])"
      ],
      "execution_count": 0,
      "outputs": []
    },
    {
      "cell_type": "code",
      "metadata": {
        "id": "lkX4GpYfy69g",
        "colab_type": "code",
        "colab": {}
      },
      "source": [
        "df = pd.DataFrame(df_array)"
      ],
      "execution_count": 0,
      "outputs": []
    },
    {
      "cell_type": "code",
      "metadata": {
        "id": "OTwuijoDy9wA",
        "colab_type": "code",
        "outputId": "809c17d1-bbb9-496d-b642-ac75daae4373",
        "colab": {
          "base_uri": "https://localhost:8080/",
          "height": 204
        }
      },
      "source": [
        "df.columns = ['country', 'date', 'confirmed', 'deaths', 'recovered'] ; df.head()"
      ],
      "execution_count": 0,
      "outputs": [
        {
          "output_type": "execute_result",
          "data": {
            "text/html": [
              "<div>\n",
              "<style scoped>\n",
              "    .dataframe tbody tr th:only-of-type {\n",
              "        vertical-align: middle;\n",
              "    }\n",
              "\n",
              "    .dataframe tbody tr th {\n",
              "        vertical-align: top;\n",
              "    }\n",
              "\n",
              "    .dataframe thead th {\n",
              "        text-align: right;\n",
              "    }\n",
              "</style>\n",
              "<table border=\"1\" class=\"dataframe\">\n",
              "  <thead>\n",
              "    <tr style=\"text-align: right;\">\n",
              "      <th></th>\n",
              "      <th>country</th>\n",
              "      <th>date</th>\n",
              "      <th>confirmed</th>\n",
              "      <th>deaths</th>\n",
              "      <th>recovered</th>\n",
              "    </tr>\n",
              "  </thead>\n",
              "  <tbody>\n",
              "    <tr>\n",
              "      <th>0</th>\n",
              "      <td>Afghanistan</td>\n",
              "      <td>2020-1-22</td>\n",
              "      <td>0</td>\n",
              "      <td>0</td>\n",
              "      <td>0</td>\n",
              "    </tr>\n",
              "    <tr>\n",
              "      <th>1</th>\n",
              "      <td>Afghanistan</td>\n",
              "      <td>2020-1-23</td>\n",
              "      <td>0</td>\n",
              "      <td>0</td>\n",
              "      <td>0</td>\n",
              "    </tr>\n",
              "    <tr>\n",
              "      <th>2</th>\n",
              "      <td>Afghanistan</td>\n",
              "      <td>2020-1-24</td>\n",
              "      <td>0</td>\n",
              "      <td>0</td>\n",
              "      <td>0</td>\n",
              "    </tr>\n",
              "    <tr>\n",
              "      <th>3</th>\n",
              "      <td>Afghanistan</td>\n",
              "      <td>2020-1-25</td>\n",
              "      <td>0</td>\n",
              "      <td>0</td>\n",
              "      <td>0</td>\n",
              "    </tr>\n",
              "    <tr>\n",
              "      <th>4</th>\n",
              "      <td>Afghanistan</td>\n",
              "      <td>2020-1-26</td>\n",
              "      <td>0</td>\n",
              "      <td>0</td>\n",
              "      <td>0</td>\n",
              "    </tr>\n",
              "  </tbody>\n",
              "</table>\n",
              "</div>"
            ],
            "text/plain": [
              "       country       date  confirmed  deaths  recovered\n",
              "0  Afghanistan  2020-1-22          0       0          0\n",
              "1  Afghanistan  2020-1-23          0       0          0\n",
              "2  Afghanistan  2020-1-24          0       0          0\n",
              "3  Afghanistan  2020-1-25          0       0          0\n",
              "4  Afghanistan  2020-1-26          0       0          0"
            ]
          },
          "metadata": {
            "tags": []
          },
          "execution_count": 14
        }
      ]
    },
    {
      "cell_type": "code",
      "metadata": {
        "id": "9buq9XSey-kR",
        "colab_type": "code",
        "colab": {}
      },
      "source": [
        "# Convert to datetime object\n",
        "df['date'] = pd.to_datetime(df['date'])"
      ],
      "execution_count": 0,
      "outputs": []
    },
    {
      "cell_type": "code",
      "metadata": {
        "id": "lvIy-SUX8ZS7",
        "colab_type": "code",
        "outputId": "31a92b83-b01b-4ec6-84c3-8362ace25488",
        "colab": {
          "base_uri": "https://localhost:8080/",
          "height": 34
        }
      },
      "source": [
        "# Get last date\n",
        "df['date'].max()"
      ],
      "execution_count": 0,
      "outputs": [
        {
          "output_type": "execute_result",
          "data": {
            "text/plain": [
              "Timestamp('2020-04-16 00:00:00')"
            ]
          },
          "metadata": {
            "tags": []
          },
          "execution_count": 16
        }
      ]
    },
    {
      "cell_type": "markdown",
      "metadata": {
        "id": "MeqHoCHD8hEP",
        "colab_type": "text"
      },
      "source": [
        "# Description Statistics"
      ]
    },
    {
      "cell_type": "code",
      "metadata": {
        "id": "LyFV4u0N8btn",
        "colab_type": "code",
        "colab": {}
      },
      "source": [
        "last_date_df = df[df['date'] == df['date'].max()]"
      ],
      "execution_count": 0,
      "outputs": []
    },
    {
      "cell_type": "code",
      "metadata": {
        "id": "fZXXujYI8kz7",
        "colab_type": "code",
        "outputId": "92afac6d-c174-4fb6-eca0-4bc29e3c5606",
        "colab": {
          "base_uri": "https://localhost:8080/"
        }
      },
      "source": [
        "total_confirmed = last_date_df['confirmed'].sum()\n",
        "total_deaths = last_date_df['deaths'].sum()\n",
        "total_recovered = last_date_df['recovered'].sum()\n",
        "print(total_confirmed, total_deaths, total_recovered)"
      ],
      "execution_count": 0,
      "outputs": [
        {
          "output_type": "stream",
          "text": [
            "2152646 143800 542107\n"
          ],
          "name": "stdout"
        }
      ]
    },
    {
      "cell_type": "code",
      "metadata": {
        "id": "_Q_FPDDN8lOd",
        "colab_type": "code",
        "colab": {}
      },
      "source": [
        "def get_totals(df: pd.DataFrame) -> list:\n",
        "  df = df[df['date'] == df['date'].max()]\n",
        "  return [df['confirmed'].sum(), df['deaths'].sum(), df['recovered'].sum()]"
      ],
      "execution_count": 0,
      "outputs": []
    },
    {
      "cell_type": "code",
      "metadata": {
        "id": "VMLrblYY8myc",
        "colab_type": "code",
        "colab": {}
      },
      "source": [
        ""
      ],
      "execution_count": 0,
      "outputs": []
    },
    {
      "cell_type": "markdown",
      "metadata": {
        "id": "7O6_WEfV8pD9",
        "colab_type": "text"
      },
      "source": [
        "# Country Infection History"
      ]
    },
    {
      "cell_type": "code",
      "metadata": {
        "id": "vcCl7-Rz8rIT",
        "colab_type": "code",
        "outputId": "1fff2853-bdd0-41af-9db0-5e81eb7f1556",
        "colab": {
          "base_uri": "https://localhost:8080/"
        }
      },
      "source": [
        "# Look at one country\n",
        "country = 'Canada'\n",
        "country_df = df[df['country'] == country]\n",
        "country_df.head(10)"
      ],
      "execution_count": 0,
      "outputs": [
        {
          "output_type": "execute_result",
          "data": {
            "text/html": [
              "<div>\n",
              "<style scoped>\n",
              "    .dataframe tbody tr th:only-of-type {\n",
              "        vertical-align: middle;\n",
              "    }\n",
              "\n",
              "    .dataframe tbody tr th {\n",
              "        vertical-align: top;\n",
              "    }\n",
              "\n",
              "    .dataframe thead th {\n",
              "        text-align: right;\n",
              "    }\n",
              "</style>\n",
              "<table border=\"1\" class=\"dataframe\">\n",
              "  <thead>\n",
              "    <tr style=\"text-align: right;\">\n",
              "      <th></th>\n",
              "      <th>country</th>\n",
              "      <th>date</th>\n",
              "      <th>confirmed</th>\n",
              "      <th>deaths</th>\n",
              "      <th>recovered</th>\n",
              "    </tr>\n",
              "  </thead>\n",
              "  <tbody>\n",
              "    <tr>\n",
              "      <th>2408</th>\n",
              "      <td>Canada</td>\n",
              "      <td>2020-01-22</td>\n",
              "      <td>0</td>\n",
              "      <td>0</td>\n",
              "      <td>0</td>\n",
              "    </tr>\n",
              "    <tr>\n",
              "      <th>2409</th>\n",
              "      <td>Canada</td>\n",
              "      <td>2020-01-23</td>\n",
              "      <td>0</td>\n",
              "      <td>0</td>\n",
              "      <td>0</td>\n",
              "    </tr>\n",
              "    <tr>\n",
              "      <th>2410</th>\n",
              "      <td>Canada</td>\n",
              "      <td>2020-01-24</td>\n",
              "      <td>0</td>\n",
              "      <td>0</td>\n",
              "      <td>0</td>\n",
              "    </tr>\n",
              "    <tr>\n",
              "      <th>2411</th>\n",
              "      <td>Canada</td>\n",
              "      <td>2020-01-25</td>\n",
              "      <td>0</td>\n",
              "      <td>0</td>\n",
              "      <td>0</td>\n",
              "    </tr>\n",
              "    <tr>\n",
              "      <th>2412</th>\n",
              "      <td>Canada</td>\n",
              "      <td>2020-01-26</td>\n",
              "      <td>1</td>\n",
              "      <td>0</td>\n",
              "      <td>0</td>\n",
              "    </tr>\n",
              "    <tr>\n",
              "      <th>2413</th>\n",
              "      <td>Canada</td>\n",
              "      <td>2020-01-27</td>\n",
              "      <td>1</td>\n",
              "      <td>0</td>\n",
              "      <td>0</td>\n",
              "    </tr>\n",
              "    <tr>\n",
              "      <th>2414</th>\n",
              "      <td>Canada</td>\n",
              "      <td>2020-01-28</td>\n",
              "      <td>2</td>\n",
              "      <td>0</td>\n",
              "      <td>0</td>\n",
              "    </tr>\n",
              "    <tr>\n",
              "      <th>2415</th>\n",
              "      <td>Canada</td>\n",
              "      <td>2020-01-29</td>\n",
              "      <td>2</td>\n",
              "      <td>0</td>\n",
              "      <td>0</td>\n",
              "    </tr>\n",
              "    <tr>\n",
              "      <th>2416</th>\n",
              "      <td>Canada</td>\n",
              "      <td>2020-01-30</td>\n",
              "      <td>2</td>\n",
              "      <td>0</td>\n",
              "      <td>0</td>\n",
              "    </tr>\n",
              "    <tr>\n",
              "      <th>2417</th>\n",
              "      <td>Canada</td>\n",
              "      <td>2020-01-31</td>\n",
              "      <td>4</td>\n",
              "      <td>0</td>\n",
              "      <td>0</td>\n",
              "    </tr>\n",
              "  </tbody>\n",
              "</table>\n",
              "</div>"
            ],
            "text/plain": [
              "     country       date  confirmed  deaths  recovered\n",
              "2408  Canada 2020-01-22          0       0          0\n",
              "2409  Canada 2020-01-23          0       0          0\n",
              "2410  Canada 2020-01-24          0       0          0\n",
              "2411  Canada 2020-01-25          0       0          0\n",
              "2412  Canada 2020-01-26          1       0          0\n",
              "2413  Canada 2020-01-27          1       0          0\n",
              "2414  Canada 2020-01-28          2       0          0\n",
              "2415  Canada 2020-01-29          2       0          0\n",
              "2416  Canada 2020-01-30          2       0          0\n",
              "2417  Canada 2020-01-31          4       0          0"
            ]
          },
          "metadata": {
            "tags": []
          },
          "execution_count": 20
        }
      ]
    },
    {
      "cell_type": "code",
      "metadata": {
        "id": "3N_fjEVu8sR0",
        "colab_type": "code",
        "outputId": "2197b32d-515d-4df9-d046-47ff9e168cd1",
        "colab": {
          "base_uri": "https://localhost:8080/"
        }
      },
      "source": [
        "print(get_totals(country_df))"
      ],
      "execution_count": 0,
      "outputs": [
        {
          "output_type": "stream",
          "text": [
            "[30808, 1257, 9698]\n"
          ],
          "name": "stdout"
        }
      ]
    },
    {
      "cell_type": "code",
      "metadata": {
        "id": "dJY4BENW8tit",
        "colab_type": "code",
        "outputId": "eb671f7c-f53b-4671-a4c7-677d771a1eae",
        "colab": {
          "base_uri": "https://localhost:8080/"
        }
      },
      "source": [
        "plt.figure(figsize=(15,8))\n",
        "\n",
        "plt.plot(country_df['date'], country_df['confirmed'], label='confirmed')\n",
        "plt.plot(country_df['date'],country_df['deaths'], label= 'deaths')\n",
        "plt.plot(country_df['date'],country_df['recovered'], label = 'recovered')\n",
        "\n",
        "plt.title(f'stats for {country}')\n",
        "plt.ylabel('count')\n",
        "plt.xlabel('date')\n",
        "plt.legend()"
      ],
      "execution_count": 0,
      "outputs": [
        {
          "output_type": "execute_result",
          "data": {
            "text/plain": [
              "<matplotlib.legend.Legend at 0x7fbcb037d898>"
            ]
          },
          "metadata": {
            "tags": []
          },
          "execution_count": 22
        },
        {
          "output_type": "display_data",
          "data": {
            "image/png": "[encoded data removed]",
            "text/plain": [
              "<Figure size 1080x576 with 1 Axes>"
            ]
          },
          "metadata": {
            "tags": [],
            "needs_background": "light"
          }
        }
      ]
    },
    {
      "cell_type": "markdown",
      "metadata": {
        "id": "LOaq8QQKDEWG",
        "colab_type": "text"
      },
      "source": [
        "Because of limited data we turn this problem into classification by framing it like a weather forecasting problem as follows:\n",
        "\n",
        "\"Based on data from the past 7 days, what is the number of confirmed cases on the 8th day?\"\n",
        "\n",
        "We frame this similarly for the mortality prediction as well.\n"
      ]
    },
    {
      "cell_type": "markdown",
      "metadata": {
        "id": "M2_Up9yNAOkO",
        "colab_type": "text"
      },
      "source": [
        "# Focus on Canada"
      ]
    },
    {
      "cell_type": "code",
      "metadata": {
        "id": "FAfXm85o8u5R",
        "colab_type": "code",
        "colab": {}
      },
      "source": [
        "country = 'Canada'\n",
        "canada_df = df[df['country'] == country].copy()\n",
        "canada_df.reset_index(drop=True,inplace=True)"
      ],
      "execution_count": 0,
      "outputs": []
    },
    {
      "cell_type": "code",
      "metadata": {
        "id": "oPvrMxCiAVdO",
        "colab_type": "code",
        "outputId": "3680ef53-df55-4db3-8eb1-f19c827000ef",
        "colab": {
          "base_uri": "https://localhost:8080/",
          "height": 359
        }
      },
      "source": [
        "canada_df.head(10)"
      ],
      "execution_count": 0,
      "outputs": [
        {
          "output_type": "execute_result",
          "data": {
            "text/html": [
              "<div>\n",
              "<style scoped>\n",
              "    .dataframe tbody tr th:only-of-type {\n",
              "        vertical-align: middle;\n",
              "    }\n",
              "\n",
              "    .dataframe tbody tr th {\n",
              "        vertical-align: top;\n",
              "    }\n",
              "\n",
              "    .dataframe thead th {\n",
              "        text-align: right;\n",
              "    }\n",
              "</style>\n",
              "<table border=\"1\" class=\"dataframe\">\n",
              "  <thead>\n",
              "    <tr style=\"text-align: right;\">\n",
              "      <th></th>\n",
              "      <th>country</th>\n",
              "      <th>date</th>\n",
              "      <th>confirmed</th>\n",
              "      <th>deaths</th>\n",
              "      <th>recovered</th>\n",
              "    </tr>\n",
              "  </thead>\n",
              "  <tbody>\n",
              "    <tr>\n",
              "      <th>0</th>\n",
              "      <td>Canada</td>\n",
              "      <td>2020-01-22</td>\n",
              "      <td>0</td>\n",
              "      <td>0</td>\n",
              "      <td>0</td>\n",
              "    </tr>\n",
              "    <tr>\n",
              "      <th>1</th>\n",
              "      <td>Canada</td>\n",
              "      <td>2020-01-23</td>\n",
              "      <td>0</td>\n",
              "      <td>0</td>\n",
              "      <td>0</td>\n",
              "    </tr>\n",
              "    <tr>\n",
              "      <th>2</th>\n",
              "      <td>Canada</td>\n",
              "      <td>2020-01-24</td>\n",
              "      <td>0</td>\n",
              "      <td>0</td>\n",
              "      <td>0</td>\n",
              "    </tr>\n",
              "    <tr>\n",
              "      <th>3</th>\n",
              "      <td>Canada</td>\n",
              "      <td>2020-01-25</td>\n",
              "      <td>0</td>\n",
              "      <td>0</td>\n",
              "      <td>0</td>\n",
              "    </tr>\n",
              "    <tr>\n",
              "      <th>4</th>\n",
              "      <td>Canada</td>\n",
              "      <td>2020-01-26</td>\n",
              "      <td>1</td>\n",
              "      <td>0</td>\n",
              "      <td>0</td>\n",
              "    </tr>\n",
              "    <tr>\n",
              "      <th>5</th>\n",
              "      <td>Canada</td>\n",
              "      <td>2020-01-27</td>\n",
              "      <td>1</td>\n",
              "      <td>0</td>\n",
              "      <td>0</td>\n",
              "    </tr>\n",
              "    <tr>\n",
              "      <th>6</th>\n",
              "      <td>Canada</td>\n",
              "      <td>2020-01-28</td>\n",
              "      <td>2</td>\n",
              "      <td>0</td>\n",
              "      <td>0</td>\n",
              "    </tr>\n",
              "    <tr>\n",
              "      <th>7</th>\n",
              "      <td>Canada</td>\n",
              "      <td>2020-01-29</td>\n",
              "      <td>2</td>\n",
              "      <td>0</td>\n",
              "      <td>0</td>\n",
              "    </tr>\n",
              "    <tr>\n",
              "      <th>8</th>\n",
              "      <td>Canada</td>\n",
              "      <td>2020-01-30</td>\n",
              "      <td>2</td>\n",
              "      <td>0</td>\n",
              "      <td>0</td>\n",
              "    </tr>\n",
              "    <tr>\n",
              "      <th>9</th>\n",
              "      <td>Canada</td>\n",
              "      <td>2020-01-31</td>\n",
              "      <td>4</td>\n",
              "      <td>0</td>\n",
              "      <td>0</td>\n",
              "    </tr>\n",
              "  </tbody>\n",
              "</table>\n",
              "</div>"
            ],
            "text/plain": [
              "  country       date  confirmed  deaths  recovered\n",
              "0  Canada 2020-01-22          0       0          0\n",
              "1  Canada 2020-01-23          0       0          0\n",
              "2  Canada 2020-01-24          0       0          0\n",
              "3  Canada 2020-01-25          0       0          0\n",
              "4  Canada 2020-01-26          1       0          0\n",
              "5  Canada 2020-01-27          1       0          0\n",
              "6  Canada 2020-01-28          2       0          0\n",
              "7  Canada 2020-01-29          2       0          0\n",
              "8  Canada 2020-01-30          2       0          0\n",
              "9  Canada 2020-01-31          4       0          0"
            ]
          },
          "metadata": {
            "tags": []
          },
          "execution_count": 24
        }
      ]
    },
    {
      "cell_type": "markdown",
      "metadata": {
        "id": "ixiaRbw1SFJU",
        "colab_type": "text"
      },
      "source": [
        "## Some feature engineering"
      ]
    },
    {
      "cell_type": "code",
      "metadata": {
        "id": "k-NX2KMJNKmd",
        "colab_type": "code",
        "colab": {}
      },
      "source": [
        "new_confirmed = canada_df['confirmed'].diff()\n",
        "new_deaths = canada_df['deaths'].diff()"
      ],
      "execution_count": 0,
      "outputs": []
    },
    {
      "cell_type": "code",
      "metadata": {
        "id": "n8418KNFOyza",
        "colab_type": "code",
        "colab": {}
      },
      "source": [
        "canada_df['new_confirmed'] = new_confirmed\n",
        "canada_df['new_deaths'] = new_deaths"
      ],
      "execution_count": 0,
      "outputs": []
    },
    {
      "cell_type": "code",
      "metadata": {
        "id": "cFnmyMfmMrQ7",
        "colab_type": "code",
        "outputId": "bfedc842-bd3b-46d1-a858-ed128eea7e9f",
        "colab": {
          "base_uri": "https://localhost:8080/",
          "height": 359
        }
      },
      "source": [
        "canada_df.head(10)"
      ],
      "execution_count": 0,
      "outputs": [
        {
          "output_type": "execute_result",
          "data": {
            "text/html": [
              "<div>\n",
              "<style scoped>\n",
              "    .dataframe tbody tr th:only-of-type {\n",
              "        vertical-align: middle;\n",
              "    }\n",
              "\n",
              "    .dataframe tbody tr th {\n",
              "        vertical-align: top;\n",
              "    }\n",
              "\n",
              "    .dataframe thead th {\n",
              "        text-align: right;\n",
              "    }\n",
              "</style>\n",
              "<table border=\"1\" class=\"dataframe\">\n",
              "  <thead>\n",
              "    <tr style=\"text-align: right;\">\n",
              "      <th></th>\n",
              "      <th>country</th>\n",
              "      <th>date</th>\n",
              "      <th>confirmed</th>\n",
              "      <th>deaths</th>\n",
              "      <th>recovered</th>\n",
              "      <th>new_confirmed</th>\n",
              "      <th>new_deaths</th>\n",
              "    </tr>\n",
              "  </thead>\n",
              "  <tbody>\n",
              "    <tr>\n",
              "      <th>0</th>\n",
              "      <td>Canada</td>\n",
              "      <td>2020-01-22</td>\n",
              "      <td>0</td>\n",
              "      <td>0</td>\n",
              "      <td>0</td>\n",
              "      <td>NaN</td>\n",
              "      <td>NaN</td>\n",
              "    </tr>\n",
              "    <tr>\n",
              "      <th>1</th>\n",
              "      <td>Canada</td>\n",
              "      <td>2020-01-23</td>\n",
              "      <td>0</td>\n",
              "      <td>0</td>\n",
              "      <td>0</td>\n",
              "      <td>0.0</td>\n",
              "      <td>0.0</td>\n",
              "    </tr>\n",
              "    <tr>\n",
              "      <th>2</th>\n",
              "      <td>Canada</td>\n",
              "      <td>2020-01-24</td>\n",
              "      <td>0</td>\n",
              "      <td>0</td>\n",
              "      <td>0</td>\n",
              "      <td>0.0</td>\n",
              "      <td>0.0</td>\n",
              "    </tr>\n",
              "    <tr>\n",
              "      <th>3</th>\n",
              "      <td>Canada</td>\n",
              "      <td>2020-01-25</td>\n",
              "      <td>0</td>\n",
              "      <td>0</td>\n",
              "      <td>0</td>\n",
              "      <td>0.0</td>\n",
              "      <td>0.0</td>\n",
              "    </tr>\n",
              "    <tr>\n",
              "      <th>4</th>\n",
              "      <td>Canada</td>\n",
              "      <td>2020-01-26</td>\n",
              "      <td>1</td>\n",
              "      <td>0</td>\n",
              "      <td>0</td>\n",
              "      <td>1.0</td>\n",
              "      <td>0.0</td>\n",
              "    </tr>\n",
              "    <tr>\n",
              "      <th>5</th>\n",
              "      <td>Canada</td>\n",
              "      <td>2020-01-27</td>\n",
              "      <td>1</td>\n",
              "      <td>0</td>\n",
              "      <td>0</td>\n",
              "      <td>0.0</td>\n",
              "      <td>0.0</td>\n",
              "    </tr>\n",
              "    <tr>\n",
              "      <th>6</th>\n",
              "      <td>Canada</td>\n",
              "      <td>2020-01-28</td>\n",
              "      <td>2</td>\n",
              "      <td>0</td>\n",
              "      <td>0</td>\n",
              "      <td>1.0</td>\n",
              "      <td>0.0</td>\n",
              "    </tr>\n",
              "    <tr>\n",
              "      <th>7</th>\n",
              "      <td>Canada</td>\n",
              "      <td>2020-01-29</td>\n",
              "      <td>2</td>\n",
              "      <td>0</td>\n",
              "      <td>0</td>\n",
              "      <td>0.0</td>\n",
              "      <td>0.0</td>\n",
              "    </tr>\n",
              "    <tr>\n",
              "      <th>8</th>\n",
              "      <td>Canada</td>\n",
              "      <td>2020-01-30</td>\n",
              "      <td>2</td>\n",
              "      <td>0</td>\n",
              "      <td>0</td>\n",
              "      <td>0.0</td>\n",
              "      <td>0.0</td>\n",
              "    </tr>\n",
              "    <tr>\n",
              "      <th>9</th>\n",
              "      <td>Canada</td>\n",
              "      <td>2020-01-31</td>\n",
              "      <td>4</td>\n",
              "      <td>0</td>\n",
              "      <td>0</td>\n",
              "      <td>2.0</td>\n",
              "      <td>0.0</td>\n",
              "    </tr>\n",
              "  </tbody>\n",
              "</table>\n",
              "</div>"
            ],
            "text/plain": [
              "  country       date  confirmed  deaths  recovered  new_confirmed  new_deaths\n",
              "0  Canada 2020-01-22          0       0          0            NaN         NaN\n",
              "1  Canada 2020-01-23          0       0          0            0.0         0.0\n",
              "2  Canada 2020-01-24          0       0          0            0.0         0.0\n",
              "3  Canada 2020-01-25          0       0          0            0.0         0.0\n",
              "4  Canada 2020-01-26          1       0          0            1.0         0.0\n",
              "5  Canada 2020-01-27          1       0          0            0.0         0.0\n",
              "6  Canada 2020-01-28          2       0          0            1.0         0.0\n",
              "7  Canada 2020-01-29          2       0          0            0.0         0.0\n",
              "8  Canada 2020-01-30          2       0          0            0.0         0.0\n",
              "9  Canada 2020-01-31          4       0          0            2.0         0.0"
            ]
          },
          "metadata": {
            "tags": []
          },
          "execution_count": 27
        }
      ]
    },
    {
      "cell_type": "code",
      "metadata": {
        "id": "IgGORDs6MsvL",
        "colab_type": "code",
        "outputId": "3fda286b-26aa-4edc-d3f1-69c510a25870",
        "colab": {
          "base_uri": "https://localhost:8080/",
          "height": 204
        }
      },
      "source": [
        "canada_df.tail()"
      ],
      "execution_count": 0,
      "outputs": [
        {
          "output_type": "execute_result",
          "data": {
            "text/html": [
              "<div>\n",
              "<style scoped>\n",
              "    .dataframe tbody tr th:only-of-type {\n",
              "        vertical-align: middle;\n",
              "    }\n",
              "\n",
              "    .dataframe tbody tr th {\n",
              "        vertical-align: top;\n",
              "    }\n",
              "\n",
              "    .dataframe thead th {\n",
              "        text-align: right;\n",
              "    }\n",
              "</style>\n",
              "<table border=\"1\" class=\"dataframe\">\n",
              "  <thead>\n",
              "    <tr style=\"text-align: right;\">\n",
              "      <th></th>\n",
              "      <th>country</th>\n",
              "      <th>date</th>\n",
              "      <th>confirmed</th>\n",
              "      <th>deaths</th>\n",
              "      <th>recovered</th>\n",
              "      <th>new_confirmed</th>\n",
              "      <th>new_deaths</th>\n",
              "    </tr>\n",
              "  </thead>\n",
              "  <tbody>\n",
              "    <tr>\n",
              "      <th>81</th>\n",
              "      <td>Canada</td>\n",
              "      <td>2020-04-12</td>\n",
              "      <td>24298</td>\n",
              "      <td>714</td>\n",
              "      <td>7123</td>\n",
              "      <td>982.0</td>\n",
              "      <td>60.0</td>\n",
              "    </tr>\n",
              "    <tr>\n",
              "      <th>82</th>\n",
              "      <td>Canada</td>\n",
              "      <td>2020-04-13</td>\n",
              "      <td>25679</td>\n",
              "      <td>779</td>\n",
              "      <td>7758</td>\n",
              "      <td>1381.0</td>\n",
              "      <td>65.0</td>\n",
              "    </tr>\n",
              "    <tr>\n",
              "      <th>83</th>\n",
              "      <td>Canada</td>\n",
              "      <td>2020-04-14</td>\n",
              "      <td>27034</td>\n",
              "      <td>899</td>\n",
              "      <td>8210</td>\n",
              "      <td>1355.0</td>\n",
              "      <td>120.0</td>\n",
              "    </tr>\n",
              "    <tr>\n",
              "      <th>84</th>\n",
              "      <td>Canada</td>\n",
              "      <td>2020-04-15</td>\n",
              "      <td>28208</td>\n",
              "      <td>1006</td>\n",
              "      <td>8966</td>\n",
              "      <td>1174.0</td>\n",
              "      <td>107.0</td>\n",
              "    </tr>\n",
              "    <tr>\n",
              "      <th>85</th>\n",
              "      <td>Canada</td>\n",
              "      <td>2020-04-16</td>\n",
              "      <td>30808</td>\n",
              "      <td>1257</td>\n",
              "      <td>9698</td>\n",
              "      <td>2600.0</td>\n",
              "      <td>251.0</td>\n",
              "    </tr>\n",
              "  </tbody>\n",
              "</table>\n",
              "</div>"
            ],
            "text/plain": [
              "   country       date  confirmed  deaths  recovered  new_confirmed  new_deaths\n",
              "81  Canada 2020-04-12      24298     714       7123          982.0        60.0\n",
              "82  Canada 2020-04-13      25679     779       7758         1381.0        65.0\n",
              "83  Canada 2020-04-14      27034     899       8210         1355.0       120.0\n",
              "84  Canada 2020-04-15      28208    1006       8966         1174.0       107.0\n",
              "85  Canada 2020-04-16      30808    1257       9698         2600.0       251.0"
            ]
          },
          "metadata": {
            "tags": []
          },
          "execution_count": 28
        }
      ]
    },
    {
      "cell_type": "code",
      "metadata": {
        "id": "QG590pNnZNRq",
        "colab_type": "code",
        "outputId": "d9f32269-6cb9-45ce-dba5-bbee91a0af5c",
        "colab": {
          "base_uri": "https://localhost:8080/",
          "height": 255
        }
      },
      "source": [
        "canada_df.info()"
      ],
      "execution_count": 0,
      "outputs": [
        {
          "output_type": "stream",
          "text": [
            "<class 'pandas.core.frame.DataFrame'>\n",
            "RangeIndex: 86 entries, 0 to 85\n",
            "Data columns (total 7 columns):\n",
            " #   Column         Non-Null Count  Dtype         \n",
            "---  ------         --------------  -----         \n",
            " 0   country        86 non-null     object        \n",
            " 1   date           86 non-null     datetime64[ns]\n",
            " 2   confirmed      86 non-null     int64         \n",
            " 3   deaths         86 non-null     int64         \n",
            " 4   recovered      86 non-null     int64         \n",
            " 5   new_confirmed  85 non-null     float64       \n",
            " 6   new_deaths     85 non-null     float64       \n",
            "dtypes: datetime64[ns](1), float64(2), int64(3), object(1)\n",
            "memory usage: 4.8+ KB\n"
          ],
          "name": "stdout"
        }
      ]
    },
    {
      "cell_type": "code",
      "metadata": {
        "id": "TXr2eaoKYpC-",
        "colab_type": "code",
        "colab": {}
      },
      "source": [
        "canada_df.set_index('date', inplace=True)"
      ],
      "execution_count": 0,
      "outputs": []
    },
    {
      "cell_type": "code",
      "metadata": {
        "id": "w4D5e9mGYwl-",
        "colab_type": "code",
        "outputId": "b691005b-1b99-42ab-aed0-c83732e19623",
        "colab": {
          "base_uri": "https://localhost:8080/",
          "height": 390
        }
      },
      "source": [
        "canada_df.head(10)"
      ],
      "execution_count": 0,
      "outputs": [
        {
          "output_type": "execute_result",
          "data": {
            "text/html": [
              "<div>\n",
              "<style scoped>\n",
              "    .dataframe tbody tr th:only-of-type {\n",
              "        vertical-align: middle;\n",
              "    }\n",
              "\n",
              "    .dataframe tbody tr th {\n",
              "        vertical-align: top;\n",
              "    }\n",
              "\n",
              "    .dataframe thead th {\n",
              "        text-align: right;\n",
              "    }\n",
              "</style>\n",
              "<table border=\"1\" class=\"dataframe\">\n",
              "  <thead>\n",
              "    <tr style=\"text-align: right;\">\n",
              "      <th></th>\n",
              "      <th>country</th>\n",
              "      <th>confirmed</th>\n",
              "      <th>deaths</th>\n",
              "      <th>recovered</th>\n",
              "      <th>new_confirmed</th>\n",
              "      <th>new_deaths</th>\n",
              "    </tr>\n",
              "    <tr>\n",
              "      <th>date</th>\n",
              "      <th></th>\n",
              "      <th></th>\n",
              "      <th></th>\n",
              "      <th></th>\n",
              "      <th></th>\n",
              "      <th></th>\n",
              "    </tr>\n",
              "  </thead>\n",
              "  <tbody>\n",
              "    <tr>\n",
              "      <th>2020-01-22</th>\n",
              "      <td>Canada</td>\n",
              "      <td>0</td>\n",
              "      <td>0</td>\n",
              "      <td>0</td>\n",
              "      <td>NaN</td>\n",
              "      <td>NaN</td>\n",
              "    </tr>\n",
              "    <tr>\n",
              "      <th>2020-01-23</th>\n",
              "      <td>Canada</td>\n",
              "      <td>0</td>\n",
              "      <td>0</td>\n",
              "      <td>0</td>\n",
              "      <td>0.0</td>\n",
              "      <td>0.0</td>\n",
              "    </tr>\n",
              "    <tr>\n",
              "      <th>2020-01-24</th>\n",
              "      <td>Canada</td>\n",
              "      <td>0</td>\n",
              "      <td>0</td>\n",
              "      <td>0</td>\n",
              "      <td>0.0</td>\n",
              "      <td>0.0</td>\n",
              "    </tr>\n",
              "    <tr>\n",
              "      <th>2020-01-25</th>\n",
              "      <td>Canada</td>\n",
              "      <td>0</td>\n",
              "      <td>0</td>\n",
              "      <td>0</td>\n",
              "      <td>0.0</td>\n",
              "      <td>0.0</td>\n",
              "    </tr>\n",
              "    <tr>\n",
              "      <th>2020-01-26</th>\n",
              "      <td>Canada</td>\n",
              "      <td>1</td>\n",
              "      <td>0</td>\n",
              "      <td>0</td>\n",
              "      <td>1.0</td>\n",
              "      <td>0.0</td>\n",
              "    </tr>\n",
              "    <tr>\n",
              "      <th>2020-01-27</th>\n",
              "      <td>Canada</td>\n",
              "      <td>1</td>\n",
              "      <td>0</td>\n",
              "      <td>0</td>\n",
              "      <td>0.0</td>\n",
              "      <td>0.0</td>\n",
              "    </tr>\n",
              "    <tr>\n",
              "      <th>2020-01-28</th>\n",
              "      <td>Canada</td>\n",
              "      <td>2</td>\n",
              "      <td>0</td>\n",
              "      <td>0</td>\n",
              "      <td>1.0</td>\n",
              "      <td>0.0</td>\n",
              "    </tr>\n",
              "    <tr>\n",
              "      <th>2020-01-29</th>\n",
              "      <td>Canada</td>\n",
              "      <td>2</td>\n",
              "      <td>0</td>\n",
              "      <td>0</td>\n",
              "      <td>0.0</td>\n",
              "      <td>0.0</td>\n",
              "    </tr>\n",
              "    <tr>\n",
              "      <th>2020-01-30</th>\n",
              "      <td>Canada</td>\n",
              "      <td>2</td>\n",
              "      <td>0</td>\n",
              "      <td>0</td>\n",
              "      <td>0.0</td>\n",
              "      <td>0.0</td>\n",
              "    </tr>\n",
              "    <tr>\n",
              "      <th>2020-01-31</th>\n",
              "      <td>Canada</td>\n",
              "      <td>4</td>\n",
              "      <td>0</td>\n",
              "      <td>0</td>\n",
              "      <td>2.0</td>\n",
              "      <td>0.0</td>\n",
              "    </tr>\n",
              "  </tbody>\n",
              "</table>\n",
              "</div>"
            ],
            "text/plain": [
              "           country  confirmed  deaths  recovered  new_confirmed  new_deaths\n",
              "date                                                                       \n",
              "2020-01-22  Canada          0       0          0            NaN         NaN\n",
              "2020-01-23  Canada          0       0          0            0.0         0.0\n",
              "2020-01-24  Canada          0       0          0            0.0         0.0\n",
              "2020-01-25  Canada          0       0          0            0.0         0.0\n",
              "2020-01-26  Canada          1       0          0            1.0         0.0\n",
              "2020-01-27  Canada          1       0          0            0.0         0.0\n",
              "2020-01-28  Canada          2       0          0            1.0         0.0\n",
              "2020-01-29  Canada          2       0          0            0.0         0.0\n",
              "2020-01-30  Canada          2       0          0            0.0         0.0\n",
              "2020-01-31  Canada          4       0          0            2.0         0.0"
            ]
          },
          "metadata": {
            "tags": []
          },
          "execution_count": 31
        }
      ]
    },
    {
      "cell_type": "code",
      "metadata": {
        "id": "arnzMCHsVzVu",
        "colab_type": "code",
        "outputId": "a6970f20-9c4f-4531-b719-b692abfa37bc",
        "colab": {
          "base_uri": "https://localhost:8080/",
          "height": 54
        }
      },
      "source": [
        "\"\"\"\n",
        "#forecast_date = '2020-04-10'\n",
        "#train = canada_df.loc[:forecast_date]\n",
        "train = canada_df.copy()\n",
        "\n",
        "n_forecast_window = 7\n",
        "test = canada_df.iloc[-(n_forecast_window*2):]\n",
        "\n",
        "forecast_date = test.index.tolist()[0].strftime('%Y-%m-%d')\n",
        "print(forecast_date)\n",
        "\"\"\""
      ],
      "execution_count": 0,
      "outputs": [
        {
          "output_type": "execute_result",
          "data": {
            "text/plain": [
              "\"\\n#forecast_date = '2020-04-10'\\n#train = canada_df.loc[:forecast_date]\\ntrain = canada_df.copy()\\n\\nn_forecast_window = 7\\ntest = canada_df.iloc[-(n_forecast_window*2):]\\n\\nforecast_date = test.index.tolist()[0].strftime('%Y-%m-%d')\\nprint(forecast_date)\\n\""
            ]
          },
          "metadata": {
            "tags": []
          },
          "execution_count": 32
        }
      ]
    },
    {
      "cell_type": "markdown",
      "metadata": {
        "id": "35Yjn74MYXao",
        "colab_type": "text"
      },
      "source": [
        "# Data Split"
      ]
    },
    {
      "cell_type": "markdown",
      "metadata": {
        "id": "AV-h_nDdYZT-",
        "colab_type": "text"
      },
      "source": [
        "Take data before `2020-04-01` as training while data after as test"
      ]
    },
    {
      "cell_type": "code",
      "metadata": {
        "id": "Pwx6YPMnuN8-",
        "colab_type": "code",
        "colab": {}
      },
      "source": [
        "#train.reset_index(drop=True, inplace=True)"
      ],
      "execution_count": 0,
      "outputs": []
    },
    {
      "cell_type": "markdown",
      "metadata": {
        "id": "s-EKnjnkwYNg",
        "colab_type": "text"
      },
      "source": [
        "Want to rearrange the data set to be of the form\n",
        "```\n",
        "    | var(t-n) | var(t-(n-1)) | ... | var(t-1) | var(t) |\n",
        "    ---------------------------------------------------- \n",
        "  0 |\n",
        "  1 |\n",
        "```\n",
        "where the far right column is the output forecasting variable (i.e., y) and the columns on its left are the input variables."
      ]
    },
    {
      "cell_type": "code",
      "metadata": {
        "id": "DHpUpa_PnC3A",
        "colab_type": "code",
        "outputId": "d280599a-811b-4d74-caea-01669012a440",
        "colab": {
          "base_uri": "https://localhost:8080/",
          "height": 54
        }
      },
      "source": [
        "\"\"\"\n",
        "PROTOTYPE\n",
        "\n",
        "temp = canada_df.copy()\n",
        "target = 'confirmed'\n",
        "x=[]\n",
        "y=[]\n",
        "n_steps = 7\n",
        "sequence=list(temp[target])\n",
        "for i in range(len(sequence)):\n",
        "    end_ix = i + n_steps\n",
        "    if end_ix > len(sequence)-1:\n",
        "        break\n",
        "    seq_x, seq_y = sequence[i:end_ix], sequence[end_ix]\n",
        "    if(seq_y!=0):\n",
        "        x.append(seq_x)   \n",
        "        y.append(seq_y)\n",
        "\"\"\""
      ],
      "execution_count": 0,
      "outputs": [
        {
          "output_type": "execute_result",
          "data": {
            "text/plain": [
              "\"\\nPROTOTYPE\\n\\ntemp = canada_df.copy()\\ntarget = 'confirmed'\\nx=[]\\ny=[]\\nn_steps = 7\\nsequence=list(temp[target])\\nfor i in range(len(sequence)):\\n    end_ix = i + n_steps\\n    if end_ix > len(sequence)-1:\\n        break\\n    seq_x, seq_y = sequence[i:end_ix], sequence[end_ix]\\n    if(seq_y!=0):\\n        x.append(seq_x)   \\n        y.append(seq_y)\\n\""
            ]
          },
          "metadata": {
            "tags": []
          },
          "execution_count": 34
        }
      ]
    },
    {
      "cell_type": "code",
      "metadata": {
        "id": "lHBNlcXNsYxr",
        "colab_type": "code",
        "colab": {}
      },
      "source": [
        "def series_to_supervised(data, n_in=1, n_out=1, dropnan=True):\n",
        "  \"\"\"\n",
        "\tFrame a time series as a supervised learning dataset.\n",
        "\tArguments:\n",
        "\t\tdata: Sequence of observations as a list or NumPy array.\n",
        "\t\tn_in: Number of lag observations as input (X).\n",
        "\t\tn_out: Number of observations as output (y).\n",
        "\t\tdropnan: Boolean whether or not to drop rows with NaN values.\n",
        "\tReturns:\n",
        "\t\tPandas DataFrame of series framed for supervised learning.\n",
        "\n",
        "  SOURCE: ML Mastery time series tutorial\n",
        "\t\"\"\"\n",
        "  # Determine the number of input variables\n",
        "  n_vars = 1 if type(data) is list else data.shape[0]\n",
        "  df = pd.DataFrame(data)\n",
        "  cols, names = list(), list()\n",
        "\t# input sequence (t-n, ... t-1)\n",
        "  for i in range(n_in, 0, -1):\n",
        "    cols.append(df.shift(i))\n",
        "    names += [('var%d(t-%d)' % (j+1, i)) for j in range(n_vars)]\n",
        "\t# forecast sequence (t, t+1, ... t+n)\n",
        "  for i in range(0, n_out):\n",
        "    cols.append(df.shift(-i))\n",
        "    if i == 0:\n",
        "      names += [('var%d(t)' % (j+1)) for j in range(n_vars)]\n",
        "    else:\n",
        "      names += [('var%d(t+%d)' % (j+1, i)) for j in range(n_vars)]\n",
        "\t# put it all together\n",
        "  agg = pd.concat(cols, axis=1)\n",
        "  agg.columns = names\n",
        "\t# drop rows with NaN values\n",
        "  if dropnan:\n",
        "    agg.dropna(inplace=True)\n",
        "  return agg"
      ],
      "execution_count": 0,
      "outputs": []
    },
    {
      "cell_type": "code",
      "metadata": {
        "id": "AKthy5vRxqZU",
        "colab_type": "code",
        "outputId": "03f5e742-5e73-4e6c-8afa-95e7429c101d",
        "colab": {
          "base_uri": "https://localhost:8080/",
          "height": 54
        }
      },
      "source": [
        "\"\"\"\n",
        "confirmed = canada_df['confirmed'].tolist()\n",
        "agg = series_to_supervised(confirmed, n_forecast_window)\n",
        "\n",
        "train_val_c = train['confirmed'].tolist()\n",
        "test_c = test['confirmed'].tolist()\n",
        "\n",
        "train_val_d = train['deaths'].tolist()\n",
        "test_d = test['deaths'].tolist()\n",
        "\"\"\""
      ],
      "execution_count": 0,
      "outputs": [
        {
          "output_type": "execute_result",
          "data": {
            "text/plain": [
              "\"\\nconfirmed = canada_df['confirmed'].tolist()\\nagg = series_to_supervised(confirmed, n_forecast_window)\\n\\ntrain_val_c = train['confirmed'].tolist()\\ntest_c = test['confirmed'].tolist()\\n\\ntrain_val_d = train['deaths'].tolist()\\ntest_d = test['deaths'].tolist()\\n\""
            ]
          },
          "metadata": {
            "tags": []
          },
          "execution_count": 36
        }
      ]
    },
    {
      "cell_type": "code",
      "metadata": {
        "id": "sSLpUoScJlmW",
        "colab_type": "code",
        "colab": {}
      },
      "source": [
        ""
      ],
      "execution_count": 0,
      "outputs": []
    },
    {
      "cell_type": "markdown",
      "metadata": {
        "id": "d50f9ZUZbQIz",
        "colab_type": "text"
      },
      "source": [
        "## Further split train for validation"
      ]
    },
    {
      "cell_type": "code",
      "metadata": {
        "id": "3B7o5aFNJPEj",
        "colab_type": "code",
        "outputId": "9b8ae7fb-6226-4443-d86e-dc72d182bed8",
        "colab": {
          "base_uri": "https://localhost:8080/",
          "height": 54
        }
      },
      "source": [
        "\"\"\"\n",
        "train_val_c_agg = series_to_supervised(train_val_c, n_forecast_window)\n",
        "test_c_agg = series_to_supervised(test_c, n_forecast_window)\n",
        "\n",
        "X_tv_c = train_val_c_agg.drop(columns=['var1(t)']).to_numpy()\n",
        "y_tv_c = train_val_c_agg['var1(t)'].to_numpy()\n",
        "\n",
        "X_test_c = test_c_agg.drop(columns=['var1(t)']).to_numpy()\n",
        "y_test_c = test_c_agg['var1(t)'].to_numpy()\n",
        "\"\"\""
      ],
      "execution_count": 0,
      "outputs": [
        {
          "output_type": "execute_result",
          "data": {
            "text/plain": [
              "\"\\ntrain_val_c_agg = series_to_supervised(train_val_c, n_forecast_window)\\ntest_c_agg = series_to_supervised(test_c, n_forecast_window)\\n\\nX_tv_c = train_val_c_agg.drop(columns=['var1(t)']).to_numpy()\\ny_tv_c = train_val_c_agg['var1(t)'].to_numpy()\\n\\nX_test_c = test_c_agg.drop(columns=['var1(t)']).to_numpy()\\ny_test_c = test_c_agg['var1(t)'].to_numpy()\\n\""
            ]
          },
          "metadata": {
            "tags": []
          },
          "execution_count": 37
        }
      ]
    },
    {
      "cell_type": "markdown",
      "metadata": {
        "id": "LT4Tm3praxuT",
        "colab_type": "text"
      },
      "source": [
        "## Reshape for LSTM\n",
        "\n",
        "Must be in the form:\n",
        "\n",
        "```[samples, timesteps, features]```"
      ]
    },
    {
      "cell_type": "code",
      "metadata": {
        "id": "wM5PUaGAW5is",
        "colab_type": "code",
        "outputId": "4e4883a0-3b52-4aba-e00b-446f35a07c99",
        "colab": {
          "base_uri": "https://localhost:8080/",
          "height": 54
        }
      },
      "source": [
        "\"\"\"\n",
        "X_tv_c = X_tv_c.reshape((X_tv_c.shape[0], 1, X_tv_c.shape[1]))\n",
        "X_test_c = X_test_c.reshape((X_test_c.shape[0], 1, X_test_c.shape[1]))\n",
        "\n",
        "X_train_c, X_val_c, y_train_c, y_val_c = train_test_split(X_tv_c, y_tv_c, test_size=0.2, random_state=42)\n",
        "\"\"\""
      ],
      "execution_count": 0,
      "outputs": [
        {
          "output_type": "execute_result",
          "data": {
            "text/plain": [
              "'\\nX_tv_c = X_tv_c.reshape((X_tv_c.shape[0], 1, X_tv_c.shape[1]))\\nX_test_c = X_test_c.reshape((X_test_c.shape[0], 1, X_test_c.shape[1]))\\n\\nX_train_c, X_val_c, y_train_c, y_val_c = train_test_split(X_tv_c, y_tv_c, test_size=0.2, random_state=42)\\n'"
            ]
          },
          "metadata": {
            "tags": []
          },
          "execution_count": 38
        }
      ]
    },
    {
      "cell_type": "markdown",
      "metadata": {
        "id": "qU6xJhOkFAnj",
        "colab_type": "text"
      },
      "source": [
        "# Model Preparation"
      ]
    },
    {
      "cell_type": "code",
      "metadata": {
        "id": "VGtmnZgOFB1n",
        "colab_type": "code",
        "outputId": "60e6736c-78eb-4442-c915-0b47fdfb20cb",
        "colab": {
          "base_uri": "https://localhost:8080/",
          "height": 54
        }
      },
      "source": [
        "\"\"\"\n",
        "# Initializing model components\n",
        "epochs = 30\n",
        "batch_size = 16\n",
        "n_hidden = 32\n",
        "timesteps = X_train_c.shape[1]\n",
        "input_dim = X_train_c.shape[2]\n",
        "n_features=1\n",
        "n_steps=n_forecast_window\n",
        "print(timesteps)\n",
        "print(input_dim)\n",
        "print(len(X_train_c))\n",
        "\n",
        "\n",
        "# define model\n",
        "\n",
        "model = Sequential()\n",
        "model.add(LSTM(100, activation='relu', input_shape=(n_features, n_steps), return_sequences=True, kernel_initializer=glorot_uniform(seed=42)))\n",
        "model.add(LSTM(128, activation='relu', kernel_initializer=glorot_uniform(seed=42)))\n",
        "model.add(Dense(1, activation='relu', kernel_initializer=glorot_uniform(seed=42)))\n",
        "model.summary()\n",
        "model.compile(optimizer='adam', loss=tf.keras.losses.MeanSquaredLogarithmicError())\n",
        "\n",
        "\n",
        "# fit model\n",
        "model.fit(X_train_c, y_train_c, epochs=epochs, validation_data=(X_val_c, y_val_c), verbose=2)\n",
        "\"\"\""
      ],
      "execution_count": 0,
      "outputs": [
        {
          "output_type": "execute_result",
          "data": {
            "text/plain": [
              "\"\\n# Initializing model components\\nepochs = 30\\nbatch_size = 16\\nn_hidden = 32\\ntimesteps = X_train_c.shape[1]\\ninput_dim = X_train_c.shape[2]\\nn_features=1\\nn_steps=n_forecast_window\\nprint(timesteps)\\nprint(input_dim)\\nprint(len(X_train_c))\\n\\n\\n# define model\\n\\nmodel = Sequential()\\nmodel.add(LSTM(100, activation='relu', input_shape=(n_features, n_steps), return_sequences=True, kernel_initializer=glorot_uniform(seed=42)))\\nmodel.add(LSTM(128, activation='relu', kernel_initializer=glorot_uniform(seed=42)))\\nmodel.add(Dense(1, activation='relu', kernel_initializer=glorot_uniform(seed=42)))\\nmodel.summary()\\nmodel.compile(optimizer='adam', loss=tf.keras.losses.MeanSquaredLogarithmicError())\\n\\n\\n# fit model\\nmodel.fit(X_train_c, y_train_c, epochs=epochs, validation_data=(X_val_c, y_val_c), verbose=2)\\n\""
            ]
          },
          "metadata": {
            "tags": []
          },
          "execution_count": 39
        }
      ]
    },
    {
      "cell_type": "markdown",
      "metadata": {
        "id": "8k1Z-fAPFhPj",
        "colab_type": "text"
      },
      "source": [
        "# Forecasting"
      ]
    },
    {
      "cell_type": "code",
      "metadata": {
        "id": "HSdINjodGjIL",
        "colab_type": "code",
        "colab": {}
      },
      "source": [
        "def forecast(model,data,start_date,n_days, n_steps):\n",
        "  \"\"\"\n",
        "\tProduce a forecast prediction.\n",
        "\tArguments:\n",
        "\t\tmodel: Trained model for the forecasting\n",
        "\t\tstart_date: starting date for the forecast\n",
        "\t\tn_days: Number of days to forecast after start_date.\n",
        "\t\tn_steps: The forecast window\n",
        "\tReturns:\n",
        "\t\tPandas DataFrame of series framed with forecasting results.\n",
        "\n",
        "  SOURCE: ML Mastery time series tutorial\n",
        "\t\"\"\"\n",
        "  res=dict()\n",
        "  \n",
        "  for i in range(len(data)):\n",
        "      res[i]=[]\n",
        "  y_pred=model.predict(data)\n",
        "  dates=[]\n",
        "  data_window = data.copy()  # Make a copy\n",
        "  date1 = pd.datetime.datetime.strptime(start_date, \"%Y-%m-%d\")\n",
        "  for j in range(1,n_days+1):\n",
        "      for i in range(len(data_window)):\n",
        "          cur_window=list(data_window[i][0][1:n_steps+1])\n",
        "          print(j,i,cur_window[-1])\n",
        "          res[i].append(cur_window[-1])\n",
        "          cur_window.append(y_pred[i])\n",
        "          data_window[i][0]=cur_window\n",
        "      y_pred=model.predict(data_window)\n",
        "      print(y_pred)\n",
        "      dates.append(date1.strftime(\"%Y-%m-%d\"))\n",
        "      date1+=relativedelta(days=1)\n",
        "  res=pd.DataFrame(pd.DataFrame(pd.DataFrame(res).values.T))\n",
        "  #res=pd.DataFrame(res).T\n",
        "  #print(res)\n",
        "  res.columns=dates\n",
        "  #res['Country/State']=regs\n",
        "  return res"
      ],
      "execution_count": 0,
      "outputs": []
    },
    {
      "cell_type": "code",
      "metadata": {
        "id": "r09DSUQilGTk",
        "colab_type": "code",
        "colab": {}
      },
      "source": [
        "#forecast_date = '2020-04-15'\n",
        "#test = canada_df.loc[forecast_date:]"
      ],
      "execution_count": 0,
      "outputs": []
    },
    {
      "cell_type": "code",
      "metadata": {
        "id": "dMYyHer7288X",
        "colab_type": "code",
        "outputId": "01c19bf0-ef14-4154-b8b0-c35a5b54b0ed",
        "colab": {
          "base_uri": "https://localhost:8080/",
          "height": 54
        }
      },
      "source": [
        "\"\"\"\n",
        "model.predict(X_test_c)\n",
        "\n",
        "n_forecast_days=10\n",
        "r = forecast(model, X_test_c, forecast_date, n_forecast_days, n_forecast_window)\n",
        "\n",
        "\n",
        "dates=[]\n",
        "date1 = forecast_date\n",
        "dates.append(date1)\n",
        "for i in range(n_days+1):\n",
        "  date1 = pd.datetime.datetime.strptime(date1, \"%Y-%m-%d\")\n",
        "  date1+=relativedelta(days=1)\n",
        "  date1 = date1.strftime(\"%Y-%m-%d\")\n",
        "  dates.append(date1)\n",
        "\n",
        "\n",
        "\n",
        "r.set_index(dates, inplace=True)\n",
        "\n",
        "#plt.figure(figsize=(15,8))\n",
        "#ax = plt.figure(figsize=(15,6))\n",
        "ax = canada_df.plot(y='confirmed', label='confirmed', figsize=(15,5))\n",
        "r.iloc[:,0].plot( label='forecast', ax=ax)\n",
        "\n",
        "#plt.title(f'stats for {country}')\n",
        "plt.ylabel('count')\n",
        "plt.xlabel('date')\n",
        "plt.legend()\n",
        "\n",
        "\n",
        "model.save(save_path + 'lstm.h5')\n",
        "\"\"\""
      ],
      "execution_count": 0,
      "outputs": [
        {
          "output_type": "execute_result",
          "data": {
            "text/plain": [
              "'\\nmodel.predict(X_test_c)\\n\\nn_forecast_days=10\\nr = forecast(model, X_test_c, forecast_date, n_forecast_days, n_forecast_window)\\n\\n\\ndates=[]\\ndate1 = forecast_date\\ndates.append(date1)\\nfor i in range(n_days+1):\\n  date1 = pd.datetime.datetime.strptime(date1, \"%Y-%m-%d\")\\n  date1+=relativedelta(days=1)\\n  date1 = date1.strftime(\"%Y-%m-%d\")\\n  dates.append(date1)\\n\\n\\n\\nr.set_index(dates, inplace=True)\\n\\n#plt.figure(figsize=(15,8))\\n#ax = plt.figure(figsize=(15,6))\\nax = canada_df.plot(y=\\'confirmed\\', label=\\'confirmed\\', figsize=(15,5))\\nr.iloc[:,0].plot( label=\\'forecast\\', ax=ax)\\n\\n#plt.title(f\\'stats for {country}\\')\\nplt.ylabel(\\'count\\')\\nplt.xlabel(\\'date\\')\\nplt.legend()\\n\\n\\nmodel.save(save_path + \\'lstm.h5\\')\\n'"
            ]
          },
          "metadata": {
            "tags": []
          },
          "execution_count": 42
        }
      ]
    },
    {
      "cell_type": "markdown",
      "metadata": {
        "id": "cR0p_02swCZg",
        "colab_type": "text"
      },
      "source": [
        "# Data Processing - All countries"
      ]
    },
    {
      "cell_type": "code",
      "metadata": {
        "id": "1F3EAAx1wEOo",
        "colab_type": "code",
        "colab": {}
      },
      "source": [
        "countries = df['country'].unique().tolist()"
      ],
      "execution_count": 0,
      "outputs": []
    },
    {
      "cell_type": "code",
      "metadata": {
        "id": "pBafnx6amzsK",
        "colab_type": "code",
        "outputId": "716a2822-ef51-47a2-e29a-3033034cda34",
        "colab": {
          "base_uri": "https://localhost:8080/",
          "height": 34
        }
      },
      "source": [
        "print(len(countries))"
      ],
      "execution_count": 0,
      "outputs": [
        {
          "output_type": "stream",
          "text": [
            "185\n"
          ],
          "name": "stdout"
        }
      ]
    },
    {
      "cell_type": "code",
      "metadata": {
        "id": "ePcBR455aZy5",
        "colab_type": "code",
        "outputId": "22bdd86e-1e76-46b4-e7d1-258f1629d1af",
        "colab": {
          "base_uri": "https://localhost:8080/",
          "height": 34
        }
      },
      "source": [
        "# Get latest date\n",
        "forecast_date = df['date'].max()\n",
        "\n",
        "# Set forecast date to 2 days before today\n",
        "forecast_date -= relativedelta(days=2)\n",
        "\n",
        "# Convert to string\n",
        "forecast_date = forecast_date.strftime(\"%Y-%m-%d\")\n",
        "\n",
        "\n",
        "print(forecast_date)"
      ],
      "execution_count": 0,
      "outputs": [
        {
          "output_type": "stream",
          "text": [
            "2020-04-14\n"
          ],
          "name": "stdout"
        }
      ]
    },
    {
      "cell_type": "code",
      "metadata": {
        "id": "N8kf8oZhwvN0",
        "colab_type": "code",
        "outputId": "31dbf1f7-fd24-4aaa-8127-ebf057f3a080",
        "colab": {
          "base_uri": "https://localhost:8080/",
          "height": 419
        }
      },
      "source": [
        "#df.query(\"date<'{0}'\".format(today))"
      ],
      "execution_count": 0,
      "outputs": [
        {
          "output_type": "execute_result",
          "data": {
            "text/html": [
              "<div>\n",
              "<style scoped>\n",
              "    .dataframe tbody tr th:only-of-type {\n",
              "        vertical-align: middle;\n",
              "    }\n",
              "\n",
              "    .dataframe tbody tr th {\n",
              "        vertical-align: top;\n",
              "    }\n",
              "\n",
              "    .dataframe thead th {\n",
              "        text-align: right;\n",
              "    }\n",
              "</style>\n",
              "<table border=\"1\" class=\"dataframe\">\n",
              "  <thead>\n",
              "    <tr style=\"text-align: right;\">\n",
              "      <th></th>\n",
              "      <th>country</th>\n",
              "      <th>date</th>\n",
              "      <th>confirmed</th>\n",
              "      <th>deaths</th>\n",
              "      <th>recovered</th>\n",
              "    </tr>\n",
              "  </thead>\n",
              "  <tbody>\n",
              "    <tr>\n",
              "      <th>0</th>\n",
              "      <td>Afghanistan</td>\n",
              "      <td>2020-01-22</td>\n",
              "      <td>0</td>\n",
              "      <td>0</td>\n",
              "      <td>0</td>\n",
              "    </tr>\n",
              "    <tr>\n",
              "      <th>1</th>\n",
              "      <td>Afghanistan</td>\n",
              "      <td>2020-01-23</td>\n",
              "      <td>0</td>\n",
              "      <td>0</td>\n",
              "      <td>0</td>\n",
              "    </tr>\n",
              "    <tr>\n",
              "      <th>2</th>\n",
              "      <td>Afghanistan</td>\n",
              "      <td>2020-01-24</td>\n",
              "      <td>0</td>\n",
              "      <td>0</td>\n",
              "      <td>0</td>\n",
              "    </tr>\n",
              "    <tr>\n",
              "      <th>3</th>\n",
              "      <td>Afghanistan</td>\n",
              "      <td>2020-01-25</td>\n",
              "      <td>0</td>\n",
              "      <td>0</td>\n",
              "      <td>0</td>\n",
              "    </tr>\n",
              "    <tr>\n",
              "      <th>4</th>\n",
              "      <td>Afghanistan</td>\n",
              "      <td>2020-01-26</td>\n",
              "      <td>0</td>\n",
              "      <td>0</td>\n",
              "      <td>0</td>\n",
              "    </tr>\n",
              "    <tr>\n",
              "      <th>...</th>\n",
              "      <td>...</td>\n",
              "      <td>...</td>\n",
              "      <td>...</td>\n",
              "      <td>...</td>\n",
              "      <td>...</td>\n",
              "    </tr>\n",
              "    <tr>\n",
              "      <th>15904</th>\n",
              "      <td>Yemen</td>\n",
              "      <td>2020-04-11</td>\n",
              "      <td>1</td>\n",
              "      <td>0</td>\n",
              "      <td>0</td>\n",
              "    </tr>\n",
              "    <tr>\n",
              "      <th>15905</th>\n",
              "      <td>Yemen</td>\n",
              "      <td>2020-04-12</td>\n",
              "      <td>1</td>\n",
              "      <td>0</td>\n",
              "      <td>0</td>\n",
              "    </tr>\n",
              "    <tr>\n",
              "      <th>15906</th>\n",
              "      <td>Yemen</td>\n",
              "      <td>2020-04-13</td>\n",
              "      <td>1</td>\n",
              "      <td>0</td>\n",
              "      <td>0</td>\n",
              "    </tr>\n",
              "    <tr>\n",
              "      <th>15907</th>\n",
              "      <td>Yemen</td>\n",
              "      <td>2020-04-14</td>\n",
              "      <td>1</td>\n",
              "      <td>0</td>\n",
              "      <td>0</td>\n",
              "    </tr>\n",
              "    <tr>\n",
              "      <th>15908</th>\n",
              "      <td>Yemen</td>\n",
              "      <td>2020-04-15</td>\n",
              "      <td>1</td>\n",
              "      <td>0</td>\n",
              "      <td>0</td>\n",
              "    </tr>\n",
              "  </tbody>\n",
              "</table>\n",
              "<p>15725 rows × 5 columns</p>\n",
              "</div>"
            ],
            "text/plain": [
              "           country       date  confirmed  deaths  recovered\n",
              "0      Afghanistan 2020-01-22          0       0          0\n",
              "1      Afghanistan 2020-01-23          0       0          0\n",
              "2      Afghanistan 2020-01-24          0       0          0\n",
              "3      Afghanistan 2020-01-25          0       0          0\n",
              "4      Afghanistan 2020-01-26          0       0          0\n",
              "...            ...        ...        ...     ...        ...\n",
              "15904        Yemen 2020-04-11          1       0          0\n",
              "15905        Yemen 2020-04-12          1       0          0\n",
              "15906        Yemen 2020-04-13          1       0          0\n",
              "15907        Yemen 2020-04-14          1       0          0\n",
              "15908        Yemen 2020-04-15          1       0          0\n",
              "\n",
              "[15725 rows x 5 columns]"
            ]
          },
          "metadata": {
            "tags": []
          },
          "execution_count": 153
        }
      ]
    },
    {
      "cell_type": "code",
      "metadata": {
        "id": "MxsuxT5nx97D",
        "colab_type": "code",
        "outputId": "034837a2-ff24-4938-81a5-b396116634b1",
        "colab": {
          "base_uri": "https://localhost:8080/",
          "height": 54
        }
      },
      "source": [
        "\"\"\" PROTOTYPE\n",
        "train_raw = df.query('date<'+\"'2020-04-10'\")\n",
        "metric = 'confirmed'\n",
        "win_size = 7\n",
        "x=list()\n",
        "y=list()\n",
        "for country in countries:\n",
        "  temp = train_raw[train_raw['country'] == country]\n",
        "  series = list(temp[metric])\n",
        "  for i in range(len(series)):\n",
        "    end = i + win_size\n",
        "    if end > len(series) -1:\n",
        "      break\n",
        "    series_x, series_y = series[i:end], series[end]\n",
        "    if (series_y!=0):\n",
        "      x.append(series_x)\n",
        "      y.append(series_y)\n",
        "\"\"\""
      ],
      "execution_count": 0,
      "outputs": [
        {
          "output_type": "execute_result",
          "data": {
            "text/plain": [
              "' PROTOTYPE\\ntrain_raw = df.query(\\'date<\\'+\"\\'2020-04-10\\'\")\\nmetric = \\'confirmed\\'\\nwin_size = 7\\nx=list()\\ny=list()\\nfor country in countries:\\n  temp = train_raw[train_raw[\\'country\\'] == country]\\n  series = list(temp[metric])\\n  for i in range(len(series)):\\n    end = i + win_size\\n    if end > len(series) -1:\\n      break\\n    series_x, series_y = series[i:end], series[end]\\n    if (series_y!=0):\\n      x.append(series_x)\\n      y.append(series_y)\\n'"
            ]
          },
          "metadata": {
            "tags": []
          },
          "execution_count": 154
        }
      ]
    },
    {
      "cell_type": "code",
      "metadata": {
        "id": "-ZO-KMGlwnOl",
        "colab_type": "code",
        "colab": {}
      },
      "source": [
        "def form_train_set(df, metric, pivot_date, win_size=7):\n",
        "  \"\"\"\n",
        "\tFrame a time series as a supervised learning dataset.\n",
        "\tArguments:\n",
        "\t\tmetric: Either 'Confirmed', 'Deaths', 'Recovered'\n",
        "\t\twin_size: Window size for forecasting\n",
        "\t\tpivot_date: Date to use for training\n",
        "\tReturns:\n",
        "\t\tPandas DataFrame of series framed for supervised learning.\n",
        "\n",
        "  SOURCE: Kaggle\n",
        "\t\"\"\"\n",
        "  # Extract data only before pivot_date\n",
        "  train_raw = df.query(\"date<'{0}'\".format(pivot_date))\n",
        "  metric = 'confirmed'\n",
        "  win_size = 7\n",
        "  x=[]\n",
        "  y=[]\n",
        "  for country in countries:\n",
        "    temp = train_raw[train_raw['country'] == country]\n",
        "    series = list(temp[metric])\n",
        "    for i in range(len(series)):  # Convert series to supervised\n",
        "      end = i + win_size\n",
        "      if end > len(series) -1:\n",
        "        break\n",
        "      series_x, series_y = series[i:end], series[end]\n",
        "      if (series_y!=0):\n",
        "        x.append(series_x)\n",
        "        y.append(series_y)\n",
        "  return np.array(x), np.array(y)"
      ],
      "execution_count": 0,
      "outputs": []
    },
    {
      "cell_type": "code",
      "metadata": {
        "id": "LSXElUFPivfU",
        "colab_type": "code",
        "colab": {}
      },
      "source": [
        "def form_test_set(df, metric, pivot_date, win_size=7):\n",
        "  \"\"\"\n",
        "\tFrame a time series as a supervised learning dataset.\n",
        "\tArguments:\n",
        "\t\tmetric: Either 'Confirmed', 'Deaths', 'Recovered'\n",
        "\t\twin_size: Window size for forecasting\n",
        "\t\tpivot_date: Date to use for training\n",
        "\tReturns:\n",
        "\t\tnp array of the last few records for each country.\n",
        "\n",
        "    SOURCE: Kaggle\n",
        "\t\"\"\"\n",
        "  train_raw = df.query(\"date<'{0}'\".format(pivot_date))\n",
        "  x=[]\n",
        "  for country in countries:\n",
        "      temp=train_raw[(train_raw['country']==country)]\n",
        "      series=temp[metric]\n",
        "\n",
        "      # Takes the last few entries of size win_size and appends\n",
        "      # them into the list\n",
        "      x.append(series[len(series)-win_size:len(series)+1])   \n",
        "  return np.array(x)"
      ],
      "execution_count": 0,
      "outputs": []
    },
    {
      "cell_type": "code",
      "metadata": {
        "id": "W9-JKbww6STO",
        "colab_type": "code",
        "colab": {}
      },
      "source": [
        "pivot_date = today\n",
        "win_size = 7\n",
        "X_c, y_c = form_train_set(df, 'confirmed', pivot_date )\n",
        "X_test_c = form_test_set(df, 'confirmed', pivot_date)"
      ],
      "execution_count": 0,
      "outputs": []
    },
    {
      "cell_type": "markdown",
      "metadata": {
        "id": "geT_3jNkNw_H",
        "colab_type": "text"
      },
      "source": [
        "## Data split - train and validation"
      ]
    },
    {
      "cell_type": "code",
      "metadata": {
        "id": "n3XnaFb1Nzcm",
        "colab_type": "code",
        "colab": {}
      },
      "source": [
        "X_train_c, X_val_c, y_train_c, y_val_c = train_test_split(X_c, y_c, test_size = 0.2, random_state =42)"
      ],
      "execution_count": 0,
      "outputs": []
    },
    {
      "cell_type": "code",
      "metadata": {
        "id": "0zJWzrvbOebX",
        "colab_type": "code",
        "outputId": "e5077fd6-366f-49d3-f1de-85c5266d2e57",
        "colab": {
          "base_uri": "https://localhost:8080/",
          "height": 34
        }
      },
      "source": [
        "X_train_c.shape"
      ],
      "execution_count": 0,
      "outputs": [
        {
          "output_type": "execute_result",
          "data": {
            "text/plain": [
              "(6319, 7)"
            ]
          },
          "metadata": {
            "tags": []
          },
          "execution_count": 159
        }
      ]
    },
    {
      "cell_type": "markdown",
      "metadata": {
        "id": "-lB9ehECOM4C",
        "colab_type": "text"
      },
      "source": [
        "## Reshape data for LSTM"
      ]
    },
    {
      "cell_type": "code",
      "metadata": {
        "id": "brVQexKkOFHo",
        "colab_type": "code",
        "colab": {}
      },
      "source": [
        "X_train_c = X_train_c.reshape((X_train_c.shape[0], 1, X_train_c.shape[1]))\n",
        "X_val_c= X_val_c.reshape(( X_val_c.shape[0], 1,  X_val_c.shape[1]))\n",
        "\n",
        "X_test_c = X_test_c.reshape(( X_test_c.shape[0], 1,  X_test_c.shape[1]))"
      ],
      "execution_count": 0,
      "outputs": []
    },
    {
      "cell_type": "code",
      "metadata": {
        "id": "mfAT9CTXOUc_",
        "colab_type": "code",
        "outputId": "fabaca3f-367e-4cec-f7ca-7af9a06dc50b",
        "colab": {
          "base_uri": "https://localhost:8080/",
          "height": 34
        }
      },
      "source": [
        "print(X_train_c.shape, y_train_c.shape, X_val_c.shape, X_test_c.shape)"
      ],
      "execution_count": 0,
      "outputs": [
        {
          "output_type": "stream",
          "text": [
            "(6319, 1, 7) (6319,) (1580, 1, 7) (185, 1, 7)\n"
          ],
          "name": "stdout"
        }
      ]
    },
    {
      "cell_type": "markdown",
      "metadata": {
        "id": "Nnd5W-QfPyV4",
        "colab_type": "text"
      },
      "source": [
        "# Modeling - LSTM"
      ]
    },
    {
      "cell_type": "code",
      "metadata": {
        "id": "YcxDzQNhPlzn",
        "colab_type": "code",
        "colab": {}
      },
      "source": [
        "# Model parameters\n",
        "epochs = 5\n",
        "batch_size = 32\n",
        "timesteps = X_train_c.shape[1]\n",
        "input_dim = X_train_c.shape[2]\n",
        "n_features=1"
      ],
      "execution_count": 0,
      "outputs": []
    },
    {
      "cell_type": "markdown",
      "metadata": {
        "id": "ZruBH8PAP9gL",
        "colab_type": "text"
      },
      "source": [
        "# Modeling - Confirmed Cases"
      ]
    },
    {
      "cell_type": "code",
      "metadata": {
        "id": "K5k-H0uUP-vx",
        "colab_type": "code",
        "outputId": "c318b3a4-9a72-4e85-8096-cbe0c0f6040c",
        "colab": {
          "base_uri": "https://localhost:8080/",
          "height": 255
        }
      },
      "source": [
        "# Stacked LSTM Model\n",
        "model_c = Sequential()\n",
        "model_c.add(LSTM(100, activation='relu', input_shape=(n_features,win_size),return_sequences=True))\n",
        "model_c.add(LSTM(150, activation='relu'))\n",
        "model_c.add(Dense(1,activation='relu'))\n",
        "model_c.summary()"
      ],
      "execution_count": 0,
      "outputs": [
        {
          "output_type": "stream",
          "text": [
            "Model: \"sequential_4\"\n",
            "_________________________________________________________________\n",
            "Layer (type)                 Output Shape              Param #   \n",
            "=================================================================\n",
            "lstm_7 (LSTM)                (None, 1, 100)            43200     \n",
            "_________________________________________________________________\n",
            "lstm_8 (LSTM)                (None, 150)               150600    \n",
            "_________________________________________________________________\n",
            "dense_4 (Dense)              (None, 1)                 151       \n",
            "=================================================================\n",
            "Total params: 193,951\n",
            "Trainable params: 193,951\n",
            "Non-trainable params: 0\n",
            "_________________________________________________________________\n"
          ],
          "name": "stdout"
        }
      ]
    },
    {
      "cell_type": "code",
      "metadata": {
        "id": "vSuLePmJQBg_",
        "colab_type": "code",
        "outputId": "c58c6fdf-16c8-408c-ca99-e50eebb73da6",
        "colab": {
          "base_uri": "https://localhost:8080/",
          "height": 204
        }
      },
      "source": [
        "# Compiling the model\n",
        "model_c.compile(optimizer='adam', loss=tf.keras.losses.MeanSquaredLogarithmicError())\n",
        "\n",
        "# fit the model\n",
        "hist=model_c.fit(X_train_c,y_train_c, epochs=epochs, batch_size=batch_size, validation_data=(X_val_c, y_val_c), verbose=2, \n",
        "               shuffle=True)\n",
        "\n",
        "#TODO: Need to somehow reduce the randomness in the LSTM layers, random seed does not work"
      ],
      "execution_count": 0,
      "outputs": [
        {
          "output_type": "stream",
          "text": [
            "Train on 6319 samples, validate on 1580 samples\n",
            "Epoch 1/5\n",
            " - 2s - loss: 0.9663 - val_loss: 0.0452\n",
            "Epoch 2/5\n",
            " - 1s - loss: 0.0434 - val_loss: 0.0416\n",
            "Epoch 3/5\n",
            " - 1s - loss: 0.0415 - val_loss: 0.0417\n",
            "Epoch 4/5\n",
            " - 1s - loss: 0.0405 - val_loss: 0.0408\n",
            "Epoch 5/5\n",
            " - 1s - loss: 0.0399 - val_loss: 0.0402\n"
          ],
          "name": "stdout"
        }
      ]
    },
    {
      "cell_type": "code",
      "metadata": {
        "id": "tIwjlrJ4QUa3",
        "colab_type": "code",
        "outputId": "de1607ca-1ee2-4c32-b259-ed85f5afaa56",
        "colab": {
          "base_uri": "https://localhost:8080/",
          "height": 295
        }
      },
      "source": [
        "plt.plot(hist.history['loss'])\n",
        "plt.plot(hist.history['val_loss'])\n",
        "plt.title('Epoch vs Loss for Confirmed Cases')\n",
        "plt.ylabel('Loss')\n",
        "plt.xlabel('Epoch')\n",
        "plt.legend(['Train', 'Validation'], loc='best')\n",
        "plt.show()"
      ],
      "execution_count": 0,
      "outputs": [
        {
          "output_type": "display_data",
          "data": {
            "image/png": "[encoded data removed]",
            "text/plain": [
              "<Figure size 432x288 with 1 Axes>"
            ]
          },
          "metadata": {
            "tags": []
          }
        }
      ]
    },
    {
      "cell_type": "code",
      "metadata": {
        "id": "37hvqcL_gnnc",
        "colab_type": "code",
        "colab": {}
      },
      "source": [
        "# Save the model\n",
        "model_c.save(save_path + 'confirmed_lstm.h5')"
      ],
      "execution_count": 0,
      "outputs": []
    },
    {
      "cell_type": "markdown",
      "metadata": {
        "id": "HOa2FHezQvKq",
        "colab_type": "text"
      },
      "source": [
        "# Routines for Forecasting"
      ]
    },
    {
      "cell_type": "code",
      "metadata": {
        "id": "s4vNkUmPQkwW",
        "colab_type": "code",
        "outputId": "88cca16c-bcb1-4381-982f-5b68746bd029",
        "colab": {
          "base_uri": "https://localhost:8080/",
          "height": 51
        }
      },
      "source": [
        "covid_timeseries = df.groupby(['date','country'])['confirmed', 'deaths'].sum()"
      ],
      "execution_count": 0,
      "outputs": [
        {
          "output_type": "stream",
          "text": [
            "/usr/local/lib/python3.6/dist-packages/ipykernel_launcher.py:1: FutureWarning: Indexing with multiple keys (implicitly converted to a tuple of keys) will be deprecated, use a list instead.\n",
            "  \"\"\"Entry point for launching an IPython kernel.\n"
          ],
          "name": "stderr"
        }
      ]
    },
    {
      "cell_type": "code",
      "metadata": {
        "id": "--E70Z4Qp5cZ",
        "colab_type": "code",
        "colab": {}
      },
      "source": [
        "covid_timeseries=covid_timeseries.reset_index().sort_values('date')"
      ],
      "execution_count": 0,
      "outputs": []
    },
    {
      "cell_type": "code",
      "metadata": {
        "id": "A2M7qWxaqJF4",
        "colab_type": "code",
        "outputId": "7c72f432-e8d3-4550-85cf-51b718cfc661",
        "colab": {
          "base_uri": "https://localhost:8080/",
          "height": 419
        }
      },
      "source": [
        "covid_timeseries[covid_timeseries['country'] =='Canada']"
      ],
      "execution_count": 0,
      "outputs": [
        {
          "output_type": "execute_result",
          "data": {
            "text/html": [
              "<div>\n",
              "<style scoped>\n",
              "    .dataframe tbody tr th:only-of-type {\n",
              "        vertical-align: middle;\n",
              "    }\n",
              "\n",
              "    .dataframe tbody tr th {\n",
              "        vertical-align: top;\n",
              "    }\n",
              "\n",
              "    .dataframe thead th {\n",
              "        text-align: right;\n",
              "    }\n",
              "</style>\n",
              "<table border=\"1\" class=\"dataframe\">\n",
              "  <thead>\n",
              "    <tr style=\"text-align: right;\">\n",
              "      <th></th>\n",
              "      <th>date</th>\n",
              "      <th>country</th>\n",
              "      <th>confirmed</th>\n",
              "      <th>deaths</th>\n",
              "    </tr>\n",
              "  </thead>\n",
              "  <tbody>\n",
              "    <tr>\n",
              "      <th>32</th>\n",
              "      <td>2020-01-22</td>\n",
              "      <td>Canada</td>\n",
              "      <td>0</td>\n",
              "      <td>0</td>\n",
              "    </tr>\n",
              "    <tr>\n",
              "      <th>217</th>\n",
              "      <td>2020-01-23</td>\n",
              "      <td>Canada</td>\n",
              "      <td>0</td>\n",
              "      <td>0</td>\n",
              "    </tr>\n",
              "    <tr>\n",
              "      <th>402</th>\n",
              "      <td>2020-01-24</td>\n",
              "      <td>Canada</td>\n",
              "      <td>0</td>\n",
              "      <td>0</td>\n",
              "    </tr>\n",
              "    <tr>\n",
              "      <th>587</th>\n",
              "      <td>2020-01-25</td>\n",
              "      <td>Canada</td>\n",
              "      <td>0</td>\n",
              "      <td>0</td>\n",
              "    </tr>\n",
              "    <tr>\n",
              "      <th>772</th>\n",
              "      <td>2020-01-26</td>\n",
              "      <td>Canada</td>\n",
              "      <td>1</td>\n",
              "      <td>0</td>\n",
              "    </tr>\n",
              "    <tr>\n",
              "      <th>...</th>\n",
              "      <td>...</td>\n",
              "      <td>...</td>\n",
              "      <td>...</td>\n",
              "      <td>...</td>\n",
              "    </tr>\n",
              "    <tr>\n",
              "      <th>15017</th>\n",
              "      <td>2020-04-12</td>\n",
              "      <td>Canada</td>\n",
              "      <td>24298</td>\n",
              "      <td>714</td>\n",
              "    </tr>\n",
              "    <tr>\n",
              "      <th>15202</th>\n",
              "      <td>2020-04-13</td>\n",
              "      <td>Canada</td>\n",
              "      <td>25679</td>\n",
              "      <td>779</td>\n",
              "    </tr>\n",
              "    <tr>\n",
              "      <th>15387</th>\n",
              "      <td>2020-04-14</td>\n",
              "      <td>Canada</td>\n",
              "      <td>27034</td>\n",
              "      <td>899</td>\n",
              "    </tr>\n",
              "    <tr>\n",
              "      <th>15572</th>\n",
              "      <td>2020-04-15</td>\n",
              "      <td>Canada</td>\n",
              "      <td>28208</td>\n",
              "      <td>1006</td>\n",
              "    </tr>\n",
              "    <tr>\n",
              "      <th>15757</th>\n",
              "      <td>2020-04-16</td>\n",
              "      <td>Canada</td>\n",
              "      <td>30808</td>\n",
              "      <td>1257</td>\n",
              "    </tr>\n",
              "  </tbody>\n",
              "</table>\n",
              "<p>86 rows × 4 columns</p>\n",
              "</div>"
            ],
            "text/plain": [
              "            date country  confirmed  deaths\n",
              "32    2020-01-22  Canada          0       0\n",
              "217   2020-01-23  Canada          0       0\n",
              "402   2020-01-24  Canada          0       0\n",
              "587   2020-01-25  Canada          0       0\n",
              "772   2020-01-26  Canada          1       0\n",
              "...          ...     ...        ...     ...\n",
              "15017 2020-04-12  Canada      24298     714\n",
              "15202 2020-04-13  Canada      25679     779\n",
              "15387 2020-04-14  Canada      27034     899\n",
              "15572 2020-04-15  Canada      28208    1006\n",
              "15757 2020-04-16  Canada      30808    1257\n",
              "\n",
              "[86 rows x 4 columns]"
            ]
          },
          "metadata": {
            "tags": []
          },
          "execution_count": 168
        }
      ]
    },
    {
      "cell_type": "code",
      "metadata": {
        "id": "JtTL30t9qLek",
        "colab_type": "code",
        "colab": {}
      },
      "source": [
        "# Utility method for Forcasting\n",
        "# model - trained model on Confirmed/Deaths data\n",
        "# start_date - Starting date of forcasting\n",
        "# num_days - Number of days for which forcasting is required\n",
        "def forecast(model,data,start_date,num_days,win_size=7):\n",
        "  \"\"\"\n",
        "\tMakes a forecast based on model\n",
        "\tArguments:\n",
        "    model: Model trained on data\n",
        "\t\tdata: The test data\n",
        "    num_days: Number of days to forecast\n",
        "\t\twin_size: Window size for forecasting\n",
        "\tReturns:\n",
        "\t\tDataframe with the prediction for each country\n",
        "\n",
        "    SOURCE: Kaggle\n",
        "\t\"\"\"\n",
        "  result_=dict()\n",
        "  for i in range(len(data)):\n",
        "      result_[i]=[]\n",
        "  y_pred=model.predict(data)\n",
        "  dates=[]\n",
        "  date_temp = pd.datetime.strptime(start_date, \"%Y-%m-%d\")\n",
        "  for j in range(1,num_days+1):\n",
        "      for i in range(len(data)): # This loops for each country\n",
        "          cur_window=list(data[i][0][1:win_size+1])\n",
        "          result_[i].append(cur_window[-1])\n",
        "          cur_window.append(y_pred[i])\n",
        "          data[i][0]=cur_window\n",
        "      y_pred=model.predict(data)\n",
        "      dates.append(date_temp.strftime(\"%Y-%m-%d\"))\n",
        "      date_temp+=relativedelta(days=1)\n",
        "  result=pd.DataFrame(pd.DataFrame(pd.DataFrame(result_).values.T)) \n",
        "  result.columns=dates\n",
        "  result['country']=countries\n",
        "  return result"
      ],
      "execution_count": 0,
      "outputs": []
    },
    {
      "cell_type": "code",
      "metadata": {
        "id": "evaPcUVIvppm",
        "colab_type": "code",
        "outputId": "842f08d7-deaa-4adc-f0c5-7665dc408713",
        "colab": {
          "base_uri": "https://localhost:8080/",
          "height": 71
        }
      },
      "source": [
        "forecast_start_date=forecast_date\n",
        "r = forecast(model_c, X_test_c, forecast_start_date, 5, win_size)"
      ],
      "execution_count": 0,
      "outputs": [
        {
          "output_type": "stream",
          "text": [
            "/usr/local/lib/python3.6/dist-packages/ipykernel_launcher.py:7: FutureWarning: The pandas.datetime class is deprecated and will be removed from pandas in a future version. Import from datetime instead.\n",
            "  import sys\n"
          ],
          "name": "stderr"
        }
      ]
    },
    {
      "cell_type": "code",
      "metadata": {
        "id": "M1nedcQ3wCoJ",
        "colab_type": "code",
        "outputId": "bf16872d-e5c4-46b3-a585-6665e6d68eaa",
        "colab": {
          "base_uri": "https://localhost:8080/",
          "height": 204
        }
      },
      "source": [
        "r.head()"
      ],
      "execution_count": 0,
      "outputs": [
        {
          "output_type": "execute_result",
          "data": {
            "text/html": [
              "<div>\n",
              "<style scoped>\n",
              "    .dataframe tbody tr th:only-of-type {\n",
              "        vertical-align: middle;\n",
              "    }\n",
              "\n",
              "    .dataframe tbody tr th {\n",
              "        vertical-align: top;\n",
              "    }\n",
              "\n",
              "    .dataframe thead th {\n",
              "        text-align: right;\n",
              "    }\n",
              "</style>\n",
              "<table border=\"1\" class=\"dataframe\">\n",
              "  <thead>\n",
              "    <tr style=\"text-align: right;\">\n",
              "      <th></th>\n",
              "      <th>2020-04-14</th>\n",
              "      <th>2020-04-15</th>\n",
              "      <th>2020-04-16</th>\n",
              "      <th>2020-04-17</th>\n",
              "      <th>2020-04-18</th>\n",
              "      <th>country</th>\n",
              "    </tr>\n",
              "  </thead>\n",
              "  <tbody>\n",
              "    <tr>\n",
              "      <th>0</th>\n",
              "      <td>784</td>\n",
              "      <td>835</td>\n",
              "      <td>892</td>\n",
              "      <td>951</td>\n",
              "      <td>1012</td>\n",
              "      <td>Afghanistan</td>\n",
              "    </tr>\n",
              "    <tr>\n",
              "      <th>1</th>\n",
              "      <td>494</td>\n",
              "      <td>499</td>\n",
              "      <td>506</td>\n",
              "      <td>510</td>\n",
              "      <td>514</td>\n",
              "      <td>Albania</td>\n",
              "    </tr>\n",
              "    <tr>\n",
              "      <th>2</th>\n",
              "      <td>2160</td>\n",
              "      <td>2191</td>\n",
              "      <td>2220</td>\n",
              "      <td>2261</td>\n",
              "      <td>2276</td>\n",
              "      <td>Algeria</td>\n",
              "    </tr>\n",
              "    <tr>\n",
              "      <th>3</th>\n",
              "      <td>673</td>\n",
              "      <td>678</td>\n",
              "      <td>680</td>\n",
              "      <td>686</td>\n",
              "      <td>688</td>\n",
              "      <td>Andorra</td>\n",
              "    </tr>\n",
              "    <tr>\n",
              "      <th>4</th>\n",
              "      <td>19</td>\n",
              "      <td>18</td>\n",
              "      <td>17</td>\n",
              "      <td>17</td>\n",
              "      <td>16</td>\n",
              "      <td>Angola</td>\n",
              "    </tr>\n",
              "  </tbody>\n",
              "</table>\n",
              "</div>"
            ],
            "text/plain": [
              "   2020-04-14  2020-04-15  2020-04-16  2020-04-17  2020-04-18      country\n",
              "0         784         835         892         951        1012  Afghanistan\n",
              "1         494         499         506         510         514      Albania\n",
              "2        2160        2191        2220        2261        2276      Algeria\n",
              "3         673         678         680         686         688      Andorra\n",
              "4          19          18          17          17          16       Angola"
            ]
          },
          "metadata": {
            "tags": []
          },
          "execution_count": 171
        }
      ]
    },
    {
      "cell_type": "code",
      "metadata": {
        "id": "PUouX2UNwhRu",
        "colab_type": "code",
        "outputId": "87a61835-5a49-4e2b-d506-06f97e5bd868",
        "colab": {
          "base_uri": "https://localhost:8080/",
          "height": 80
        }
      },
      "source": [
        "r[r['country'] == 'Canada']"
      ],
      "execution_count": 0,
      "outputs": [
        {
          "output_type": "execute_result",
          "data": {
            "text/html": [
              "<div>\n",
              "<style scoped>\n",
              "    .dataframe tbody tr th:only-of-type {\n",
              "        vertical-align: middle;\n",
              "    }\n",
              "\n",
              "    .dataframe tbody tr th {\n",
              "        vertical-align: top;\n",
              "    }\n",
              "\n",
              "    .dataframe thead th {\n",
              "        text-align: right;\n",
              "    }\n",
              "</style>\n",
              "<table border=\"1\" class=\"dataframe\">\n",
              "  <thead>\n",
              "    <tr style=\"text-align: right;\">\n",
              "      <th></th>\n",
              "      <th>2020-04-14</th>\n",
              "      <th>2020-04-15</th>\n",
              "      <th>2020-04-16</th>\n",
              "      <th>2020-04-17</th>\n",
              "      <th>2020-04-18</th>\n",
              "      <th>country</th>\n",
              "    </tr>\n",
              "  </thead>\n",
              "  <tbody>\n",
              "    <tr>\n",
              "      <th>28</th>\n",
              "      <td>28208</td>\n",
              "      <td>29065</td>\n",
              "      <td>29937</td>\n",
              "      <td>30725</td>\n",
              "      <td>31465</td>\n",
              "      <td>Canada</td>\n",
              "    </tr>\n",
              "  </tbody>\n",
              "</table>\n",
              "</div>"
            ],
            "text/plain": [
              "    2020-04-14  2020-04-15  2020-04-16  2020-04-17  2020-04-18 country\n",
              "28       28208       29065       29937       30725       31465  Canada"
            ]
          },
          "metadata": {
            "tags": []
          },
          "execution_count": 172
        }
      ]
    },
    {
      "cell_type": "code",
      "metadata": {
        "id": "DlJkNhCjwpeV",
        "colab_type": "code",
        "colab": {}
      },
      "source": [
        "canada_series = covid_timeseries[covid_timeseries['country'] == 'Canada']\n",
        "canada_predict = r[r['country'] == 'Canada'].drop(columns='country').T"
      ],
      "execution_count": 0,
      "outputs": []
    },
    {
      "cell_type": "code",
      "metadata": {
        "id": "ChYA-HMbzVgE",
        "colab_type": "code",
        "outputId": "c7fb068f-6f07-471c-a3e5-46df5f7346a2",
        "colab": {
          "base_uri": "https://localhost:8080/",
          "height": 204
        }
      },
      "source": [
        "canada_predict"
      ],
      "execution_count": 0,
      "outputs": [
        {
          "output_type": "execute_result",
          "data": {
            "text/html": [
              "<div>\n",
              "<style scoped>\n",
              "    .dataframe tbody tr th:only-of-type {\n",
              "        vertical-align: middle;\n",
              "    }\n",
              "\n",
              "    .dataframe tbody tr th {\n",
              "        vertical-align: top;\n",
              "    }\n",
              "\n",
              "    .dataframe thead th {\n",
              "        text-align: right;\n",
              "    }\n",
              "</style>\n",
              "<table border=\"1\" class=\"dataframe\">\n",
              "  <thead>\n",
              "    <tr style=\"text-align: right;\">\n",
              "      <th></th>\n",
              "      <th>28</th>\n",
              "    </tr>\n",
              "  </thead>\n",
              "  <tbody>\n",
              "    <tr>\n",
              "      <th>2020-04-14</th>\n",
              "      <td>28208</td>\n",
              "    </tr>\n",
              "    <tr>\n",
              "      <th>2020-04-15</th>\n",
              "      <td>29065</td>\n",
              "    </tr>\n",
              "    <tr>\n",
              "      <th>2020-04-16</th>\n",
              "      <td>29937</td>\n",
              "    </tr>\n",
              "    <tr>\n",
              "      <th>2020-04-17</th>\n",
              "      <td>30725</td>\n",
              "    </tr>\n",
              "    <tr>\n",
              "      <th>2020-04-18</th>\n",
              "      <td>31465</td>\n",
              "    </tr>\n",
              "  </tbody>\n",
              "</table>\n",
              "</div>"
            ],
            "text/plain": [
              "               28\n",
              "2020-04-14  28208\n",
              "2020-04-15  29065\n",
              "2020-04-16  29937\n",
              "2020-04-17  30725\n",
              "2020-04-18  31465"
            ]
          },
          "metadata": {
            "tags": []
          },
          "execution_count": 174
        }
      ]
    },
    {
      "cell_type": "code",
      "metadata": {
        "id": "MqWhomRaxvpU",
        "colab_type": "code",
        "colab": {}
      },
      "source": [
        "def predict_extract_country(pred, metric_name, country):\n",
        "\n",
        "  temp = pred[pred['country'] == country]\n",
        "\n",
        "  # Drops the 'country' column and transpose it into long form\n",
        "  temp = temp.drop(columns='country').T\n",
        "\n",
        "  # Convert index into datetime\n",
        "  temp.index = pd.to_datetime(temp.index)\n",
        "  # Rename column to 'metric_name_forecast'\n",
        "  heading = metric_name + '_forecast'\n",
        "  temp.columns = [heading]\n",
        "  return temp\n"
      ],
      "execution_count": 0,
      "outputs": []
    },
    {
      "cell_type": "markdown",
      "metadata": {
        "id": "l5x3uxbIdb-s",
        "colab_type": "text"
      },
      "source": [
        "# Test on Canada"
      ]
    },
    {
      "cell_type": "code",
      "metadata": {
        "id": "rhM9kjdNxLsd",
        "colab_type": "code",
        "colab": {}
      },
      "source": [
        "canada_predict = predict_extract_country(r, 'confirmed', 'Canada')"
      ],
      "execution_count": 0,
      "outputs": []
    },
    {
      "cell_type": "code",
      "metadata": {
        "id": "skC9_Mq9w4tB",
        "colab_type": "code",
        "outputId": "bacee70a-ed1c-4ee7-f259-062bedd71b8f",
        "colab": {
          "base_uri": "https://localhost:8080/",
          "height": 386
        }
      },
      "source": [
        "ax = canada_series.plot(x='date', y='confirmed', figsize=(15,5))\n",
        "canada_predict.plot(ax=ax)"
      ],
      "execution_count": 0,
      "outputs": [
        {
          "output_type": "execute_result",
          "data": {
            "text/plain": [
              "<matplotlib.axes._subplots.AxesSubplot at 0x7fbca32450f0>"
            ]
          },
          "metadata": {
            "tags": []
          },
          "execution_count": 177
        },
        {
          "output_type": "display_data",
          "data": {
            "image/png": "[encoded data removed]",
            "text/plain": [
              "<Figure size 1080x360 with 1 Axes>"
            ]
          },
          "metadata": {
            "tags": []
          }
        }
      ]
    },
    {
      "cell_type": "markdown",
      "metadata": {
        "id": "bgb8vf8ddZ7X",
        "colab_type": "text"
      },
      "source": [
        "# For any country"
      ]
    },
    {
      "cell_type": "code",
      "metadata": {
        "id": "__SUwQLIw-5i",
        "colab_type": "code",
        "colab": {}
      },
      "source": [
        "country = 'Italy'\n",
        "true = covid_timeseries[covid_timeseries['country'] == country]\n",
        "predict = predict_extract_country(r, 'confirmed', country)"
      ],
      "execution_count": 0,
      "outputs": []
    },
    {
      "cell_type": "code",
      "metadata": {
        "id": "WCZWGODudNWa",
        "colab_type": "code",
        "outputId": "b716063e-89a9-436f-ec75-695a92cb60d7",
        "colab": {
          "base_uri": "https://localhost:8080/",
          "height": 386
        }
      },
      "source": [
        "ax = true.plot(x='date', y='confirmed', figsize=(15,5))\n",
        "predict.plot(ax=ax)"
      ],
      "execution_count": 0,
      "outputs": [
        {
          "output_type": "execute_result",
          "data": {
            "text/plain": [
              "<matplotlib.axes._subplots.AxesSubplot at 0x7fbca32c6438>"
            ]
          },
          "metadata": {
            "tags": []
          },
          "execution_count": 179
        },
        {
          "output_type": "display_data",
          "data": {
            "image/png": "[encoded data removed]",
            "text/plain": [
              "<Figure size 1080x360 with 1 Axes>"
            ]
          },
          "metadata": {
            "tags": []
          }
        }
      ]
    },
    {
      "cell_type": "code",
      "metadata": {
        "id": "AGga9HbXdg6S",
        "colab_type": "code",
        "colab": {}
      },
      "source": [
        ""
      ],
      "execution_count": 0,
      "outputs": []
    }
  ]
}