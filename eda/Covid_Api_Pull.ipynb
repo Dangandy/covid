{
  "nbformat": 4,
  "nbformat_minor": 0,
  "metadata": {
    "colab": {
      "name": "Covid Api Pull.ipynb",
      "provenance": [],
      "authorship_tag": "ABX9TyOvRLALjhtBr6cPyKqG8Pjg",
      "include_colab_link": true
    },
    "kernelspec": {
      "name": "python3",
      "display_name": "Python 3"
    }
  },
  "cells": [
    {
      "cell_type": "markdown",
      "metadata": {
        "id": "view-in-github",
        "colab_type": "text"
      },
      "source": [
        "<a href=\"https://colab.research.google.com/github/Dangandy/covid/blob/world-map/eda/Covid_Api_Pull.ipynb\" target=\"_parent\"><img src=\"https://colab.research.google.com/assets/colab-badge.svg\" alt=\"Open In Colab\"/></a>"
      ]
    },
    {
      "cell_type": "markdown",
      "metadata": {
        "id": "NKdAcxMgLwNK",
        "colab_type": "text"
      },
      "source": [
        "# Background"
      ]
    },
    {
      "cell_type": "markdown",
      "metadata": {
        "id": "aJkGwdTWMh9r",
        "colab_type": "text"
      },
      "source": [
        "Current implementation of database does not have ICAN names and this is needed to work with topoJSON\n",
        "\n",
        "Goal: use new api from [here](https://github.com/mathdroid/covid-19-api)\n",
        "\n"
      ]
    },
    {
      "cell_type": "markdown",
      "metadata": {
        "id": "Qpf4RxtjMppJ",
        "colab_type": "text"
      },
      "source": [
        "# Install libraries"
      ]
    },
    {
      "cell_type": "code",
      "metadata": {
        "id": "m2ahN9fANt7Q",
        "colab_type": "code",
        "colab": {
          "base_uri": "https://localhost:8080/",
          "height": 204
        },
        "outputId": "2829a1b0-10cb-4133-ecb2-63f69a07fd2b"
      },
      "source": [
        "pip install flask_sqlalchemy"
      ],
      "execution_count": 1,
      "outputs": [
        {
          "output_type": "stream",
          "text": [
            "Collecting flask_sqlalchemy\n",
            "  Downloading https://files.pythonhosted.org/packages/1e/65/226d95466c75e34e291a76890ed0e27af2e46ab913002847856f11d4d59d/Flask_SQLAlchemy-2.4.1-py2.py3-none-any.whl\n",
            "Requirement already satisfied: SQLAlchemy>=0.8.0 in /usr/local/lib/python3.6/dist-packages (from flask_sqlalchemy) (1.3.16)\n",
            "Requirement already satisfied: Flask>=0.10 in /usr/local/lib/python3.6/dist-packages (from flask_sqlalchemy) (1.1.2)\n",
            "Requirement already satisfied: Jinja2>=2.10.1 in /usr/local/lib/python3.6/dist-packages (from Flask>=0.10->flask_sqlalchemy) (2.11.2)\n",
            "Requirement already satisfied: click>=5.1 in /usr/local/lib/python3.6/dist-packages (from Flask>=0.10->flask_sqlalchemy) (7.1.1)\n",
            "Requirement already satisfied: itsdangerous>=0.24 in /usr/local/lib/python3.6/dist-packages (from Flask>=0.10->flask_sqlalchemy) (1.1.0)\n",
            "Requirement already satisfied: Werkzeug>=0.15 in /usr/local/lib/python3.6/dist-packages (from Flask>=0.10->flask_sqlalchemy) (1.0.1)\n",
            "Requirement already satisfied: MarkupSafe>=0.23 in /usr/local/lib/python3.6/dist-packages (from Jinja2>=2.10.1->Flask>=0.10->flask_sqlalchemy) (1.1.1)\n",
            "Installing collected packages: flask-sqlalchemy\n",
            "Successfully installed flask-sqlalchemy-2.4.1\n"
          ],
          "name": "stdout"
        }
      ]
    },
    {
      "cell_type": "markdown",
      "metadata": {
        "id": "YZ-vNlPJNDsn",
        "colab_type": "text"
      },
      "source": [
        "# Imports"
      ]
    },
    {
      "cell_type": "code",
      "metadata": {
        "id": "RFXi8hl9Nwe9",
        "colab_type": "code",
        "colab": {
          "base_uri": "https://localhost:8080/",
          "height": 34
        },
        "outputId": "e5483d94-07d4-404c-b81b-5eb8bec37de7"
      },
      "source": [
        "# db model\n",
        "from flask import Flask\n",
        "from flask_sqlalchemy import SQLAlchemy\n",
        "\n",
        "# create & update\n",
        "from datetime import datetime, timedelta\n",
        "import requests\n",
        "\n",
        "# lstm\n",
        "import pandas as pd\n",
        "import numpy as np\n",
        "import random as rn\n",
        "\n",
        "# model\n",
        "import tensorflow as tf\n",
        "from keras.models import Sequential\n",
        "from keras.layers import LSTM\n",
        "from keras.layers import Dense\n",
        "from keras.losses import MeanSquaredLogarithmicError\n",
        "from sklearn.model_selection import train_test_split\n",
        "\n",
        "# predict\n",
        "from keras.models import load_model\n",
        "import collections"
      ],
      "execution_count": 2,
      "outputs": [
        {
          "output_type": "stream",
          "text": [
            "Using TensorFlow backend.\n"
          ],
          "name": "stderr"
        }
      ]
    },
    {
      "cell_type": "markdown",
      "metadata": {
        "id": "gaJOCI3bNGuh",
        "colab_type": "text"
      },
      "source": [
        "# Create Model"
      ]
    },
    {
      "cell_type": "code",
      "metadata": {
        "id": "07_AaytdN1-A",
        "colab_type": "code",
        "colab": {}
      },
      "source": [
        "# load flask\n",
        "app = Flask(__name__)\n",
        "app.config[\"SQLALCHEMY_DATABASE_URI\"] = \"sqlite:///site.db\"\n",
        "app.config[\"SQLALCHEMY_TRACK_MODIFICATIONS\"] = False\n",
        "\n",
        "# load db\n",
        "db = SQLAlchemy(app)\n",
        "\n",
        "# db models\n",
        "class Stat(db.Model):\n",
        "    id = db.Column(db.String(120), primary_key=True)\n",
        "    country = db.Column(db.String(100), unique=False, nullable=False)\n",
        "    ican3 = db.Column(db.String(3), nullable=False)\n",
        "    date = db.Column(db.Date, nullable=False)\n",
        "    confirmed = db.Column(db.Integer)\n",
        "    deaths = db.Column(db.Integer)\n",
        "    recovered = db.Column(db.Integer)\n",
        "    confirmed_pred = db.Column(db.Integer)\n",
        "    deaths_pred = db.Column(db.Integer)\n",
        "    recovered_pred = db.Column(db.Integer)\n",
        "\n",
        "    def __repr__(self):\n",
        "        return f\"Stat('{self.country}', '{self.date}', '{self.confirmed}', '{self.deaths}', '{self.recovered}',  '{self.confirmed_pred}', '{self.deaths_pred}', '{self.recovered_pred}')\"\n"
      ],
      "execution_count": 0,
      "outputs": []
    },
    {
      "cell_type": "markdown",
      "metadata": {
        "id": "1rbUuLAPNIDO",
        "colab_type": "text"
      },
      "source": [
        "# Create Database Model"
      ]
    },
    {
      "cell_type": "markdown",
      "metadata": {
        "id": "zP5dO3KLbB67",
        "colab_type": "text"
      },
      "source": [
        "## Pseudocode"
      ]
    },
    {
      "cell_type": "markdown",
      "metadata": {
        "id": "LkT2QgzPbEmV",
        "colab_type": "text"
      },
      "source": [
        "1. get countries\n",
        "2. for each country, get stats for every day\n",
        "3. save into database"
      ]
    },
    {
      "cell_type": "code",
      "metadata": {
        "id": "w9mydlumbNDT",
        "colab_type": "code",
        "colab": {}
      },
      "source": [
        "# variables\n",
        "base = 'https://covid19.mathdro.id'\n",
        "country_url = '/api/countries'"
      ],
      "execution_count": 0,
      "outputs": []
    },
    {
      "cell_type": "code",
      "metadata": {
        "id": "KC3GyPN0OMfH",
        "colab_type": "code",
        "colab": {
          "base_uri": "https://localhost:8080/",
          "height": 102
        },
        "outputId": "f2d6bded-4159-41dc-8c5a-3dda2aade5b5"
      },
      "source": [
        "# get countries\n",
        "country_res = requests.get(f'{base}{country_url}')\n",
        "countries = country_res.json()['countries'] ; countries[:5]"
      ],
      "execution_count": 54,
      "outputs": [
        {
          "output_type": "execute_result",
          "data": {
            "text/plain": [
              "[{'iso2': 'AF', 'iso3': 'AFG', 'name': 'Afghanistan'},\n",
              " {'iso2': 'AL', 'iso3': 'ALB', 'name': 'Albania'},\n",
              " {'iso2': 'DZ', 'iso3': 'DZA', 'name': 'Algeria'},\n",
              " {'iso2': 'AD', 'iso3': 'AND', 'name': 'Andorra'},\n",
              " {'iso2': 'AO', 'iso3': 'AGO', 'name': 'Angola'}]"
            ]
          },
          "metadata": {
            "tags": []
          },
          "execution_count": 54
        }
      ]
    },
    {
      "cell_type": "code",
      "metadata": {
        "id": "Mg9mKhHtYZib",
        "colab_type": "code",
        "colab": {}
      },
      "source": [
        "country_map = {}\n",
        "for country in countries:\n",
        "    # note iso can be None\n",
        "    iso3, name = country.get('iso3', None), country['name']\n",
        "    country_map[name] = iso3\n",
        "    # print(iso3, name)\n",
        "    # print(country_map)\n",
        "    # break"
      ],
      "execution_count": 0,
      "outputs": []
    },
    {
      "cell_type": "code",
      "metadata": {
        "id": "VjT3jAeZkBAi",
        "colab_type": "code",
        "colab": {
          "base_uri": "https://localhost:8080/",
          "height": 34
        },
        "outputId": "3e26e02b-b4bf-476a-8415-96f53d42205e"
      },
      "source": [
        "len(country_map)"
      ],
      "execution_count": 56,
      "outputs": [
        {
          "output_type": "execute_result",
          "data": {
            "text/plain": [
              "185"
            ]
          },
          "metadata": {
            "tags": []
          },
          "execution_count": 56
        }
      ]
    },
    {
      "cell_type": "markdown",
      "metadata": {
        "id": "5hALcwKDNMWf",
        "colab_type": "text"
      },
      "source": [
        "# For each country, find their ICAN CODE"
      ]
    },
    {
      "cell_type": "code",
      "metadata": {
        "id": "JUQQMhrPNR_Z",
        "colab_type": "code",
        "colab": {}
      },
      "source": [
        "match_country = [('Afghanistan'), ('Albania'), ('Algeria'), ('Andorra'), ('Angola'), ('Antigua and Barbuda'), ('Argentina'), ('Armenia'), ('Australia'), ('Austria'), ('Azerbaijan'), ('Bahamas'), ('Bahrain'), ('Bangladesh'), ('Barbados'), ('Belarus'), ('Belgium'), ('Benin'), ('Bhutan'), ('Bolivia'), ('Bosnia and Herzegovina'), ('Brazil'), ('Brunei'), ('Bulgaria'), ('Burkina Faso'), ('Cabo Verde'), ('Cambodia'), ('Cameroon'), ('Canada'), ('Central African Republic'), ('Chad'), ('Chile'), ('China'), ('Colombia'), ('Congo (Brazzaville)'), ('Congo (Kinshasa)'), ('Costa Rica'), (\"Cote d'Ivoire\"), ('Croatia'), ('Diamond Princess'), ('Cuba'), ('Cyprus'), ('Czechia'), ('Denmark'), ('Djibouti'), ('Dominican Republic'), ('Ecuador'), ('Egypt'), ('El Salvador'), ('Equatorial Guinea'), ('Eritrea'), ('Estonia'), ('Eswatini'), ('Ethiopia'), ('Fiji'), ('Finland'), ('France'), ('Gabon'), ('Gambia'), ('Georgia'), ('Germany'), ('Ghana'), ('Greece'), ('Guatemala'), ('Guinea'), ('Guyana'), ('Haiti'), ('Holy See'), ('Honduras'), ('Hungary'), ('Iceland'), ('India'), ('Indonesia'), ('Iran'), ('Iraq'), ('Ireland'), ('Israel'), ('Italy'), ('Jamaica'), ('Japan'), ('Jordan'), ('Kazakhstan'), ('Kenya'), ('Korea, South'), ('Kuwait'), ('Kyrgyzstan'), ('Latvia'), ('Lebanon'), ('Liberia'), ('Liechtenstein'), ('Lithuania'), ('Luxembourg'), ('Madagascar'), ('Malaysia'), ('Maldives'), ('Malta'), ('Mauritania'), ('Mauritius'), ('Mexico'), ('Moldova'), ('Monaco'), ('Mongolia'), ('Montenegro'), ('Morocco'), ('Namibia'), ('Nepal'), ('Netherlands'), ('New Zealand'), ('Nicaragua'), ('Niger'), ('Nigeria'), ('North Macedonia'), ('Norway'), ('Oman'), ('Pakistan'), ('Panama'), ('Papua New Guinea'), ('Paraguay'), ('Peru'), ('Philippines'), ('Poland'), ('Portugal'), ('Qatar'), ('Romania'), ('Russia'), ('Rwanda'), ('Saint Lucia'), ('Saint Vincent and the Grenadines'), ('San Marino'), ('Saudi Arabia'), ('Senegal'), ('Serbia'), ('Seychelles'), ('Singapore'), ('Slovakia'), ('Slovenia'), ('Somalia'), ('South Africa'), ('Spain'), ('Sri Lanka'), ('Sudan'), ('Suriname'), ('Sweden'), ('Switzerland'), ('Taiwan*'), ('Tanzania'), ('Thailand'), ('Togo'), ('Trinidad and Tobago'), ('Tunisia'), ('Turkey'), ('Uganda'), ('Ukraine'), ('United Arab Emirates'), ('United Kingdom'), ('Uruguay'), ('US'), ('Uzbekistan'), ('Venezuela'), ('Vietnam'), ('Zambia'), ('Zimbabwe'), ('Dominica'), ('Grenada'), ('Mozambique'), ('Syria'), ('Timor-Leste'), ('Belize'), ('Laos'), ('Libya'), ('West Bank and Gaza'), ('Guinea-Bissau'), ('Mali'), ('Saint Kitts and Nevis'), ('Kosovo'), ('Burma'), ('MS Zaandam'), ('Botswana'), ('Burundi'), ('Sierra Leone'), ('Malawi'), ('South Sudan'), ('Western Sahara'), ('Sao Tome and Principe'), ('Yemen')]"
      ],
      "execution_count": 0,
      "outputs": []
    },
    {
      "cell_type": "code",
      "metadata": {
        "id": "EKtVg38bimj7",
        "colab_type": "code",
        "colab": {}
      },
      "source": [
        "for country in match_country:\n",
        "    if country not in country_map:\n",
        "        print(country)"
      ],
      "execution_count": 0,
      "outputs": []
    },
    {
      "cell_type": "code",
      "metadata": {
        "id": "CbJXrlZyjkGK",
        "colab_type": "code",
        "colab": {
          "base_uri": "https://localhost:8080/",
          "height": 34
        },
        "outputId": "443342f0-c672-4267-90dc-e91bef20b60f"
      },
      "source": [
        "'Korea, South' in country_map"
      ],
      "execution_count": 59,
      "outputs": [
        {
          "output_type": "execute_result",
          "data": {
            "text/plain": [
              "True"
            ]
          },
          "metadata": {
            "tags": []
          },
          "execution_count": 59
        }
      ]
    },
    {
      "cell_type": "code",
      "metadata": {
        "id": "L_-3OyKUkTLh",
        "colab_type": "code",
        "colab": {
          "base_uri": "https://localhost:8080/",
          "height": 34
        },
        "outputId": "c3c68632-50ea-41ea-a93b-4fabf5994819"
      },
      "source": [
        "country_map['Korea, South']"
      ],
      "execution_count": 60,
      "outputs": [
        {
          "output_type": "execute_result",
          "data": {
            "text/plain": [
              "'KOR'"
            ]
          },
          "metadata": {
            "tags": []
          },
          "execution_count": 60
        }
      ]
    },
    {
      "cell_type": "code",
      "metadata": {
        "id": "TlkIe9S_kVsS",
        "colab_type": "code",
        "colab": {
          "base_uri": "https://localhost:8080/",
          "height": 1000
        },
        "outputId": "73caf463-9a94-4b25-bdc6-759d53d78c76"
      },
      "source": [
        "country_map"
      ],
      "execution_count": 61,
      "outputs": [
        {
          "output_type": "execute_result",
          "data": {
            "text/plain": [
              "{'Afghanistan': 'AFG',\n",
              " 'Albania': 'ALB',\n",
              " 'Algeria': 'DZA',\n",
              " 'Andorra': 'AND',\n",
              " 'Angola': 'AGO',\n",
              " 'Antigua and Barbuda': 'ATG',\n",
              " 'Argentina': 'ARG',\n",
              " 'Armenia': 'ARM',\n",
              " 'Australia': 'AUS',\n",
              " 'Austria': 'AUT',\n",
              " 'Azerbaijan': 'AZE',\n",
              " 'Bahamas': 'BHS',\n",
              " 'Bahrain': 'BHR',\n",
              " 'Bangladesh': 'BGD',\n",
              " 'Barbados': 'BRB',\n",
              " 'Belarus': 'BLR',\n",
              " 'Belgium': 'BEL',\n",
              " 'Belize': 'BLZ',\n",
              " 'Benin': 'BEN',\n",
              " 'Bhutan': 'BTN',\n",
              " 'Bolivia': 'BOL',\n",
              " 'Bosnia and Herzegovina': 'BIH',\n",
              " 'Botswana': 'BWA',\n",
              " 'Brazil': 'BRA',\n",
              " 'Brunei': 'BRN',\n",
              " 'Bulgaria': 'BGR',\n",
              " 'Burkina Faso': 'BFA',\n",
              " 'Burma': None,\n",
              " 'Burundi': 'BDI',\n",
              " 'Cabo Verde': None,\n",
              " 'Cambodia': 'KHM',\n",
              " 'Cameroon': 'CMR',\n",
              " 'Canada': 'CAN',\n",
              " 'Central African Republic': 'CAF',\n",
              " 'Chad': 'TCD',\n",
              " 'Chile': 'CHL',\n",
              " 'China': 'CHN',\n",
              " 'Colombia': 'COL',\n",
              " 'Congo (Brazzaville)': None,\n",
              " 'Congo (Kinshasa)': None,\n",
              " 'Costa Rica': 'CRI',\n",
              " \"Cote d'Ivoire\": None,\n",
              " 'Croatia': 'HRV',\n",
              " 'Cuba': 'CUB',\n",
              " 'Cyprus': 'CYP',\n",
              " 'Czechia': 'CZE',\n",
              " 'Denmark': 'DNK',\n",
              " 'Diamond Princess': None,\n",
              " 'Djibouti': 'DJI',\n",
              " 'Dominica': 'DMA',\n",
              " 'Dominican Republic': 'DOM',\n",
              " 'Ecuador': 'ECU',\n",
              " 'Egypt': 'EGY',\n",
              " 'El Salvador': 'SLV',\n",
              " 'Equatorial Guinea': 'GNQ',\n",
              " 'Eritrea': 'ERI',\n",
              " 'Estonia': 'EST',\n",
              " 'Eswatini': None,\n",
              " 'Ethiopia': 'ETH',\n",
              " 'Fiji': 'FJI',\n",
              " 'Finland': 'FIN',\n",
              " 'France': 'FRA',\n",
              " 'Gabon': 'GAB',\n",
              " 'Gambia': 'GMB',\n",
              " 'Georgia': 'GEO',\n",
              " 'Germany': 'DEU',\n",
              " 'Ghana': 'GHA',\n",
              " 'Greece': 'GRC',\n",
              " 'Grenada': 'GRD',\n",
              " 'Guatemala': 'GTM',\n",
              " 'Guinea': 'GIN',\n",
              " 'Guinea-Bissau': 'GNB',\n",
              " 'Guyana': 'GUY',\n",
              " 'Haiti': 'HTI',\n",
              " 'Holy See': None,\n",
              " 'Honduras': 'HND',\n",
              " 'Hungary': 'HUN',\n",
              " 'Iceland': 'ISL',\n",
              " 'India': 'IND',\n",
              " 'Indonesia': 'IDN',\n",
              " 'Iran': 'IRN',\n",
              " 'Iraq': 'IRQ',\n",
              " 'Ireland': 'IRL',\n",
              " 'Israel': 'ISR',\n",
              " 'Italy': 'ITA',\n",
              " 'Jamaica': 'JAM',\n",
              " 'Japan': 'JPN',\n",
              " 'Jordan': 'JOR',\n",
              " 'Kazakhstan': 'KAZ',\n",
              " 'Kenya': 'KEN',\n",
              " 'Korea, South': 'KOR',\n",
              " 'Kosovo': 'XKX',\n",
              " 'Kuwait': 'KWT',\n",
              " 'Kyrgyzstan': 'KGZ',\n",
              " 'Laos': 'LAO',\n",
              " 'Latvia': 'LVA',\n",
              " 'Lebanon': 'LBN',\n",
              " 'Liberia': 'LBR',\n",
              " 'Libya': 'LBY',\n",
              " 'Liechtenstein': 'LIE',\n",
              " 'Lithuania': 'LTU',\n",
              " 'Luxembourg': 'LUX',\n",
              " 'MS Zaandam': None,\n",
              " 'Madagascar': 'MDG',\n",
              " 'Malawi': 'MWI',\n",
              " 'Malaysia': 'MYS',\n",
              " 'Maldives': 'MDV',\n",
              " 'Mali': 'MLI',\n",
              " 'Malta': 'MLT',\n",
              " 'Mauritania': 'MRT',\n",
              " 'Mauritius': 'MUS',\n",
              " 'Mexico': 'MEX',\n",
              " 'Moldova': 'MDA',\n",
              " 'Monaco': 'MCO',\n",
              " 'Mongolia': 'MNG',\n",
              " 'Montenegro': 'MNE',\n",
              " 'Morocco': 'MAR',\n",
              " 'Mozambique': 'MOZ',\n",
              " 'Namibia': 'NAM',\n",
              " 'Nepal': 'NPL',\n",
              " 'Netherlands': 'NLD',\n",
              " 'New Zealand': 'NZL',\n",
              " 'Nicaragua': 'NIC',\n",
              " 'Niger': 'NER',\n",
              " 'Nigeria': 'NGA',\n",
              " 'North Macedonia': None,\n",
              " 'Norway': 'NOR',\n",
              " 'Oman': 'OMN',\n",
              " 'Pakistan': 'PAK',\n",
              " 'Panama': 'PAN',\n",
              " 'Papua New Guinea': 'PNG',\n",
              " 'Paraguay': 'PRY',\n",
              " 'Peru': 'PER',\n",
              " 'Philippines': 'PHL',\n",
              " 'Poland': 'POL',\n",
              " 'Portugal': 'PRT',\n",
              " 'Qatar': 'QAT',\n",
              " 'Romania': 'ROU',\n",
              " 'Russia': 'RUS',\n",
              " 'Rwanda': 'RWA',\n",
              " 'Saint Kitts and Nevis': 'KNA',\n",
              " 'Saint Lucia': 'LCA',\n",
              " 'Saint Vincent and the Grenadines': 'VCT',\n",
              " 'San Marino': 'SMR',\n",
              " 'Sao Tome and Principe': 'STP',\n",
              " 'Saudi Arabia': 'SAU',\n",
              " 'Senegal': 'SEN',\n",
              " 'Serbia': 'SRB',\n",
              " 'Seychelles': 'SYC',\n",
              " 'Sierra Leone': 'SLE',\n",
              " 'Singapore': 'SGP',\n",
              " 'Slovakia': 'SVK',\n",
              " 'Slovenia': 'SVN',\n",
              " 'Somalia': 'SOM',\n",
              " 'South Africa': 'ZAF',\n",
              " 'South Sudan': 'SSD',\n",
              " 'Spain': 'ESP',\n",
              " 'Sri Lanka': 'LKA',\n",
              " 'Sudan': 'SDN',\n",
              " 'Suriname': 'SUR',\n",
              " 'Sweden': 'SWE',\n",
              " 'Switzerland': 'CHE',\n",
              " 'Syria': 'SYR',\n",
              " 'Taiwan*': 'TWN',\n",
              " 'Tanzania': 'TZA',\n",
              " 'Thailand': 'THA',\n",
              " 'Timor-Leste': None,\n",
              " 'Togo': 'TGO',\n",
              " 'Trinidad and Tobago': 'TTO',\n",
              " 'Tunisia': 'TUN',\n",
              " 'Turkey': 'TUR',\n",
              " 'US': 'USA',\n",
              " 'Uganda': 'UGA',\n",
              " 'Ukraine': 'UKR',\n",
              " 'United Arab Emirates': 'ARE',\n",
              " 'United Kingdom': 'GBR',\n",
              " 'Uruguay': 'URY',\n",
              " 'Uzbekistan': 'UZB',\n",
              " 'Venezuela': 'VEN',\n",
              " 'Vietnam': 'VNM',\n",
              " 'West Bank and Gaza': None,\n",
              " 'Western Sahara': 'ESH',\n",
              " 'Yemen': 'YEM',\n",
              " 'Zambia': 'ZMB',\n",
              " 'Zimbabwe': 'ZWE'}"
            ]
          },
          "metadata": {
            "tags": []
          },
          "execution_count": 61
        }
      ]
    },
    {
      "cell_type": "code",
      "metadata": {
        "id": "0MYO6Rmmkdyj",
        "colab_type": "code",
        "colab": {}
      },
      "source": [
        ""
      ],
      "execution_count": 0,
      "outputs": []
    }
  ]
}